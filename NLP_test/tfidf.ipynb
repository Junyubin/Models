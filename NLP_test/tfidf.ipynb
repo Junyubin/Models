{
 "cells": [
  {
   "cell_type": "code",
   "execution_count": 1,
   "metadata": {},
   "outputs": [
    {
     "name": "stdout",
     "output_type": "stream",
     "text": [
      "[PhysicalDevice(name='/physical_device:GPU:0', device_type='GPU')]\n"
     ]
    }
   ],
   "source": [
    "from clickhouse_driver import Client\n",
    "from gensim.models import Word2Vec, Doc2Vec\n",
    "from urllib import parse\n",
    "import numpy as np\n",
    "import pandas as pd\n",
    "import re\n",
    "import time\n",
    "import gensim\n",
    "from auto_profiling_utils import *\n",
    "from auto_profiling_model import *\n",
    "from dti_v3_prep import *\n",
    "\n",
    "def check_cs(index):\n",
    "    try:\n",
    "        client = Client('192.168.0.42', port='9001', send_receive_timeout=int(600000), settings={'max_threads': int(10)})\n",
    "        client.connection.force_connect()\n",
    "        if client.connection.connected:\n",
    "            return client\n",
    "        else:\n",
    "            return check_cs(index + 1)\n",
    "    except:\n",
    "        return check_cs(index + 1)\n",
    "\n",
    "def execute_ch(sql, param=None, with_column_types=True):\n",
    "    client = check_cs(0)\n",
    "    if client == None:\n",
    "        sys.exit(1)\n",
    "    \n",
    "    result = client.execute(sql, params=param, with_column_types=with_column_types)\n",
    "\n",
    "    client.disconnect()\n",
    "    return result\n",
    "\n",
    "def normal_query(start_date, end_date, limit, interval):\n",
    "    sql = \"\"\"\n",
    "    select\n",
    "        toStartOfInterval(logtime, INTERVAL {interval}) as lgtime, src_ip, dst_ip,\n",
    "        arrayStringConcat(groupUniqArray(replaceRegexpAll(replaceRegexpAll(replace(decodeURLComponent(http_host), '/..', ' pathsearcherdetected '), '[\\-%./!@#$?,;:&*)(+=0-9_]', ' '), '(\\\\\\\\b\\\\\\\\w{1}\\\\\\\\b)', ' ')), ' ') as host,\n",
    "        arrayStringConcat(groupUniqArray(replaceRegexpAll(replaceRegexpAll(replace(decodeURLComponent(http_agent), '/..', ' pathsearcherdetected '), '[\\-%./!@#$?,;:&*)(+=0-9_]', ' '), '(\\\\\\\\b\\\\\\\\w{1}\\\\\\\\b)', ' ')), ' ') as agent,\n",
    "        arrayStringConcat(groupUniqArray(replaceRegexpAll(replaceRegexpAll(replace(decodeURLComponent(http_query), '/..', ' pathsearcherdetected '), '[\\-%./!@#$?,;:&*)(+=0-9_]', ' '), '(\\\\\\\\b\\\\\\\\w{1}\\\\\\\\b)', ' ')), ' ') as query,\n",
    "        'normal' as label\n",
    "    \n",
    "    from dti.dti_sh_demo_log\n",
    "    where (logtime >= '{start_date}' and logtime < '{end_date}')\n",
    "    and hash == 'normal'\n",
    "    group by lgtime, src_ip, dst_ip\n",
    "    limit {limit}\n",
    "    \"\"\".replace('{interval}', interval).replace('{start_date}', start_date).replace('{end_date}', end_date).replace('{limit}',limit).replace('{interval}',interval)\n",
    "\n",
    "    return sql\n",
    "\n",
    "def attack_query(attack, start_date, end_date, limit, interval):\n",
    "    sql = \"\"\"\n",
    "    select\n",
    "        toStartOfInterval(logtime, INTERVAL {interval}) as lgtime, src_ip, dst_ip,\n",
    "        arrayStringConcat(groupUniqArray(replaceRegexpAll(replaceRegexpAll(replace(decodeURLComponent(http_host), '/..', ' pathsearcherdetected '), '[\\-%./!@#$?,;:&*)(+=0-9_]', ' '), '(\\\\\\\\b\\\\\\\\w{1}\\\\\\\\b)', ' ')), ' ') as host,\n",
    "        arrayStringConcat(groupUniqArray(replaceRegexpAll(replaceRegexpAll(replace(decodeURLComponent(http_agent), '/..', ' pathsearcherdetected '), '[\\-%./!@#$?,;:&*)(+=0-9_]', ' '), '(\\\\\\\\b\\\\\\\\w{1}\\\\\\\\b)', ' ')), ' ') as agent,\n",
    "        arrayStringConcat(groupUniqArray(replaceRegexpAll(replaceRegexpAll(replace(decodeURLComponent(http_query), '/..', ' pathsearcherdetected '), '[\\-%./!@#$?,;:&*)(+=0-9_]', ' '), '(\\\\\\\\b\\\\\\\\w{1}\\\\\\\\b)', ' ')), ' ') as query,\n",
    "        '{attack}' as label\n",
    "    \n",
    "    from dti.dti_sh_demo_log\n",
    "    where (logtime >= '{start_date}' and logtime < '{end_date}')\n",
    "    and hash == '{attack}'\n",
    "    group by lgtime, src_ip, dst_ip\n",
    "    limit {limit}\n",
    "    \"\"\".replace('{interval}', interval).replace('{start_date}', start_date).replace('{end_date}', end_date).replace('{limit}',limit).replace('{interval}',interval).replace('{attack}',attack)\n",
    "    \n",
    "    return sql"
   ]
  },
  {
   "cell_type": "code",
   "execution_count": 2,
   "metadata": {},
   "outputs": [],
   "source": [
    "config = {\n",
    "    \"common\": {\n",
    "        \"model_name\": \"cnn_model\",\n",
    "        \"model_path\": \"tfidf_model\",\n",
    "        \"scaler\":\"minmaxscaler\",\n",
    "        \"vec\":\"vectorization\",\n",
    "        \"encoder\":\"onehotencoder\"\n",
    "    },\n",
    "    \"train\": {\n",
    "        \"data_load\": 0,\n",
    "        \"crontab\": \"*/30 * * * *\",\n",
    "        \"now_delta\": \"minutes=0\",\n",
    "        \"prev_delta\": \"days=30\",\n",
    "        \"max_depth\":100, ## decision tree depth\n",
    "        \"optimizer_help\": ['Adam', 'SGD'],\n",
    "        \"optimizer\": 'Adam',\n",
    "        \"learning_rate\": 0.0001,\n",
    "        \"batch_size\": 32,\n",
    "        \"epochs\": 500,\n",
    "        \"result_table\": \"result\"\n",
    "    },\n",
    "    \"predict\": {\n",
    "        \"crontab\": \"*/1 * * * *\",\n",
    "        \"now_delta\": \"minutes=0\",\n",
    "        \"prev_delta\": \"days=6\",\n",
    "        \"batch_size\": 8\n",
    "    }\n",
    "}"
   ]
  },
  {
   "cell_type": "markdown",
   "metadata": {},
   "source": [
    "## Data Load"
   ]
  },
  {
   "cell_type": "code",
   "execution_count": 3,
   "metadata": {},
   "outputs": [
    {
     "data": {
      "text/plain": [
       "1.2004621028900146"
      ]
     },
     "execution_count": 3,
     "metadata": {},
     "output_type": "execute_result"
    }
   ],
   "source": [
    "start_time = time.time()\n",
    "\n",
    "data,meta = execute_ch(normal_query('2021-06-01 00:00:00', '2021-07-01 00:00:00', '10000', '30 minute'))\n",
    "feats = [m[0] for m in meta]\n",
    "normal_data = pd.DataFrame(data = data, columns = feats)\n",
    "\n",
    "attack_data = pd.DataFrame()\n",
    "for i in ['XSS', 'BEACONING', 'SQL_INJECTION', 'CREDENTIAL']:\n",
    "    data,meta = execute_ch(attack_query(i, '2021-06-01 00:00:00', '2021-07-01 00:00:00', '10000', '30 minute'))\n",
    "    feats = [m[0] for m in meta]\n",
    "    temp_df = pd.DataFrame(data = data, columns = feats)\n",
    "    attack_data = pd.concat([attack_data, temp_df])\n",
    "    \n",
    "data = pd.concat([normal_data, attack_data])\n",
    "data.reset_index(drop = True, inplace = True)\n",
    "\n",
    "time.time() - start_time"
   ]
  },
  {
   "cell_type": "code",
   "execution_count": 4,
   "metadata": {},
   "outputs": [
    {
     "data": {
      "text/plain": [
       "normal           10000\n",
       "XSS               7926\n",
       "BEACONING         5349\n",
       "SQL_INJECTION     4461\n",
       "CREDENTIAL        4404\n",
       "Name: label, dtype: int64"
      ]
     },
     "execution_count": 4,
     "metadata": {},
     "output_type": "execute_result"
    }
   ],
   "source": [
    "data['label'].value_counts()"
   ]
  },
  {
   "cell_type": "markdown",
   "metadata": {},
   "source": [
    "## Data Split\n"
   ]
  },
  {
   "cell_type": "code",
   "execution_count": 5,
   "metadata": {},
   "outputs": [
    {
     "name": "stdout",
     "output_type": "stream",
     "text": [
      "No. of training examples: 22498\n",
      "No. of testing examples: 9642\n"
     ]
    }
   ],
   "source": [
    "# Train/Test data split\n",
    "y = data[['label']]\n",
    "x = data.drop('label', axis = 1)\n",
    "\n",
    "train_x, test_x, train_y, test_y = train_test_split(x, y, test_size=0.3, random_state=1004)\n",
    "\n",
    "train_x.reset_index(drop = True, inplace = True)\n",
    "test_x.reset_index(drop = True, inplace = True)\n",
    "train_y.reset_index(drop = True, inplace = True)\n",
    "test_y.reset_index(drop = True, inplace = True)\n",
    "\n",
    "train_y = pd.get_dummies(train_y['label'])\n",
    "test_y = pd.get_dummies(test_y['label'])\n",
    "\n",
    "print(f\"No. of training examples: {train_x.shape[0]}\")\n",
    "print(f\"No. of testing examples: {test_x.shape[0]}\")\n",
    "\n",
    "save_test_x = test_x.copy()"
   ]
  },
  {
   "cell_type": "code",
   "execution_count": 6,
   "metadata": {},
   "outputs": [],
   "source": [
    "feat_list = ['host', 'agent', 'query']"
   ]
  },
  {
   "cell_type": "code",
   "execution_count": 7,
   "metadata": {},
   "outputs": [],
   "source": [
    "train_x = train_x[feat_list]\n",
    "test_x = test_x[feat_list]"
   ]
  },
  {
   "cell_type": "markdown",
   "metadata": {},
   "source": [
    "## Data Toknization"
   ]
  },
  {
   "cell_type": "code",
   "execution_count": 12,
   "metadata": {},
   "outputs": [],
   "source": [
    "train_tf = pd.DataFrame(index= train_x.index)\n",
    "\n",
    "for i in list(train_x):\n",
    "    train_prep = DataPreprocessing(version = i, mode = 'train', config = config)\n",
    "    globals()['train_{}'.format(i)] = train_prep.vec_module(train_x[[i]], col_list = i)\n",
    "    globals()['train_{}'.format(i)].columns = [i +'_'+ j for j in list(globals()['train_{}'.format(i)])]\n",
    "    train_tf = pd.merge(train_tf, globals()['train_{}'.format(i)], right_index = True, left_index =  True)"
   ]
  },
  {
   "cell_type": "code",
   "execution_count": 13,
   "metadata": {},
   "outputs": [],
   "source": [
    "test_tf = pd.DataFrame(index= test_x.index)\n",
    "\n",
    "for i in list(test_x):\n",
    "    test_prep = DataPreprocessing(version = i, mode = 'test', config = config)\n",
    "    globals()['test_{}'.format(i)] = test_prep.vec_module(test_x[[i]], col_list = i)\n",
    "    globals()['test_{}'.format(i)].columns = [i +'_'+ j for j in list(globals()['test_{}'.format(i)])]\n",
    "    test_tf = pd.merge(test_tf, globals()['test_{}'.format(i)], right_index = True, left_index =  True)"
   ]
  },
  {
   "cell_type": "code",
   "execution_count": 14,
   "metadata": {},
   "outputs": [],
   "source": [
    "cnn_train_x = np.array(train_tf).reshape(train_tf.shape[0], 1, train_tf.shape[1], 1)\n",
    "cnn_test_x = np.array(test_tf).reshape(test_tf.shape[0], 1, test_tf.shape[1], 1)"
   ]
  },
  {
   "cell_type": "code",
   "execution_count": 15,
   "metadata": {},
   "outputs": [],
   "source": [
    "config[\"x_data_shape\"] = cnn_train_x.shape\n",
    "config[\"y_data_shape\"] = train_y.shape"
   ]
  },
  {
   "cell_type": "code",
   "execution_count": 19,
   "metadata": {
    "scrolled": true
   },
   "outputs": [
    {
     "name": "stdout",
     "output_type": "stream",
     "text": [
      "Epoch 1/500\n",
      "704/704 [==============================] - 4s 6ms/step - loss: 0.4604 - categorical_crossentropy: 0.4604 - accuracy: 0.8375\n",
      "Epoch 2/500\n",
      "704/704 [==============================] - 4s 6ms/step - loss: 0.1001 - categorical_crossentropy: 0.1001 - accuracy: 0.9696\n",
      "Epoch 3/500\n",
      "704/704 [==============================] - 4s 6ms/step - loss: 0.0766 - categorical_crossentropy: 0.0766 - accuracy: 0.9765\n",
      "Epoch 4/500\n",
      "704/704 [==============================] - 4s 6ms/step - loss: 0.0707 - categorical_crossentropy: 0.0707 - accuracy: 0.9756\n",
      "Epoch 5/500\n",
      "704/704 [==============================] - 4s 6ms/step - loss: 0.0656 - categorical_crossentropy: 0.0656 - accuracy: 0.9783\n",
      "Epoch 6/500\n",
      "704/704 [==============================] - 4s 6ms/step - loss: 0.0625 - categorical_crossentropy: 0.0625 - accuracy: 0.9793\n",
      "Epoch 7/500\n",
      "704/704 [==============================] - 4s 6ms/step - loss: 0.0594 - categorical_crossentropy: 0.0594 - accuracy: 0.9795\n",
      "Epoch 00007: early stopping\n"
     ]
    },
    {
     "data": {
      "text/plain": [
       "('MODEL HAS BEEN SAVED TO /home/ctilab/workspace/sophia/NLP/tfidf_model/1209',\n",
       " <tensorflow.python.keras.callbacks.History at 0x7f8fe2f07d50>)"
      ]
     },
     "execution_count": 19,
     "metadata": {},
     "output_type": "execute_result"
    }
   ],
   "source": [
    "model = AttackClassification(version='1209', mode='train', config=config)\n",
    "model.optimize_nn(cnn_train_x, train_y)"
   ]
  },
  {
   "cell_type": "code",
   "execution_count": 20,
   "metadata": {},
   "outputs": [
    {
     "name": "stdout",
     "output_type": "stream",
     "text": [
      "CONFUSION MATRIX\n",
      "[[3768    0    1    0    2]\n",
      " [   1 3068    1    0    6]\n",
      " [   0    0 2751    0  374]\n",
      " [   0    0    0 5524    2]\n",
      " [  12    3   20    0 6965]]\n",
      "ACCURACY SCORE : 0.9812427771357454\n"
     ]
    }
   ],
   "source": [
    "true, pred = model.validation(cnn_train_x, train_y.values)"
   ]
  },
  {
   "cell_type": "code",
   "execution_count": 21,
   "metadata": {},
   "outputs": [
    {
     "name": "stdout",
     "output_type": "stream",
     "text": [
      "CONFUSION MATRIX\n",
      "[[1562    1    7    0    8]\n",
      " [   5 1271   14    0   38]\n",
      " [   0    0 1179    0  157]\n",
      " [   0    0    0 2399    1]\n",
      " [   4    6    4    0 2986]]\n",
      "ACCURACY SCORE : 0.9745903339556109\n"
     ]
    }
   ],
   "source": [
    "true, pred = model.validation(cnn_test_x, test_y.values)"
   ]
  },
  {
   "cell_type": "code",
   "execution_count": null,
   "metadata": {},
   "outputs": [],
   "source": []
  }
 ],
 "metadata": {
  "kernelspec": {
   "display_name": "Python 3",
   "language": "python",
   "name": "python3"
  },
  "language_info": {
   "codemirror_mode": {
    "name": "ipython",
    "version": 3
   },
   "file_extension": ".py",
   "mimetype": "text/x-python",
   "name": "python",
   "nbconvert_exporter": "python",
   "pygments_lexer": "ipython3",
   "version": "3.7.4"
  }
 },
 "nbformat": 4,
 "nbformat_minor": 4
}

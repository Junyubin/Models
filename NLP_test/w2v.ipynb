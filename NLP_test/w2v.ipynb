{
 "cells": [
  {
   "cell_type": "code",
   "execution_count": 1,
   "metadata": {},
   "outputs": [
    {
     "name": "stdout",
     "output_type": "stream",
     "text": [
      "[PhysicalDevice(name='/physical_device:GPU:0', device_type='GPU')]\n"
     ]
    }
   ],
   "source": [
    "from clickhouse_driver import Client\n",
    "from gensim.models import Word2Vec, Doc2Vec\n",
    "from urllib import parse\n",
    "import numpy as np\n",
    "import pandas as pd\n",
    "import re\n",
    "import time\n",
    "import gensim\n",
    "from auto_profiling_utils import *\n",
    "from auto_profiling_model import *\n",
    "from gensim.models.doc2vec import Doc2Vec, TaggedDocument\n",
    "from gensim.models.word2vec import Word2Vec\n",
    "\n",
    "def check_cs(index):\n",
    "    try:\n",
    "        client = Client('192.168.0.42', port='9001', send_receive_timeout=int(600000), settings={'max_threads': int(10)})\n",
    "        client.connection.force_connect()\n",
    "        if client.connection.connected:\n",
    "            return client\n",
    "        else:\n",
    "            return check_cs(index + 1)\n",
    "    except:\n",
    "        return check_cs(index + 1)\n",
    "\n",
    "def execute_ch(sql, param=None, with_column_types=True):\n",
    "    client = check_cs(0)\n",
    "    if client == None:\n",
    "        sys.exit(1)\n",
    "    \n",
    "    result = client.execute(sql, params=param, with_column_types=with_column_types)\n",
    "\n",
    "    client.disconnect()\n",
    "    return result\n",
    "\n",
    "def normal_query(start_date, end_date, limit, interval):\n",
    "    sql = \"\"\"\n",
    "    select\n",
    "        toStartOfInterval(logtime, INTERVAL {interval}) as lgtime, src_ip, dst_ip,\n",
    "        arrayStringConcat(groupUniqArray(replaceRegexpAll(replaceRegexpAll(replace(decodeURLComponent(http_host), '/..', ' pathsearcherdetected '), '[\\-%./!@#$?,;:&*)(+=0-9_]', ' '), '(\\\\\\\\b\\\\\\\\w{1}\\\\\\\\b)', ' ')), ' ') as host,\n",
    "        arrayStringConcat(groupUniqArray(replaceRegexpAll(replaceRegexpAll(replace(decodeURLComponent(http_agent), '/..', ' pathsearcherdetected '), '[\\-%./!@#$?,;:&*)(+=0-9_]', ' '), '(\\\\\\\\b\\\\\\\\w{1}\\\\\\\\b)', ' ')), ' ') as agent,\n",
    "        arrayStringConcat(groupUniqArray(replaceRegexpAll(replaceRegexpAll(replace(decodeURLComponent(http_query), '/..', ' pathsearcherdetected '), '[\\-%./!@#$?,;:&*)(+=0-9_]', ' '), '(\\\\\\\\b\\\\\\\\w{1}\\\\\\\\b)', ' ')), ' ') as query,\n",
    "        'normal' as label\n",
    "    \n",
    "    from dti.dti_sh_demo_log\n",
    "    where (logtime >= '{start_date}' and logtime < '{end_date}')\n",
    "    and hash == 'normal'\n",
    "    group by lgtime, src_ip, dst_ip\n",
    "    limit {limit}\n",
    "    \"\"\".replace('{interval}', interval).replace('{start_date}', start_date).replace('{end_date}', end_date).replace('{limit}',limit).replace('{interval}',interval)\n",
    "\n",
    "    return sql\n",
    "\n",
    "def attack_query(attack, start_date, end_date, limit, interval):\n",
    "    sql = \"\"\"\n",
    "    select\n",
    "        toStartOfInterval(logtime, INTERVAL {interval}) as lgtime, src_ip, dst_ip,\n",
    "        arrayStringConcat(groupUniqArray(replaceRegexpAll(replaceRegexpAll(replace(decodeURLComponent(http_host), '/..', ' pathsearcherdetected '), '[\\-%./!@#$?,;:&*)(+=0-9_]', ' '), '(\\\\\\\\b\\\\\\\\w{1}\\\\\\\\b)', ' ')), ' ') as host,\n",
    "        arrayStringConcat(groupUniqArray(replaceRegexpAll(replaceRegexpAll(replace(decodeURLComponent(http_agent), '/..', ' pathsearcherdetected '), '[\\-%./!@#$?,;:&*)(+=0-9_]', ' '), '(\\\\\\\\b\\\\\\\\w{1}\\\\\\\\b)', ' ')), ' ') as agent,\n",
    "        arrayStringConcat(groupUniqArray(replaceRegexpAll(replaceRegexpAll(replace(decodeURLComponent(http_query), '/..', ' pathsearcherdetected '), '[\\-%./!@#$?,;:&*)(+=0-9_]', ' '), '(\\\\\\\\b\\\\\\\\w{1}\\\\\\\\b)', ' ')), ' ') as query,\n",
    "        '{attack}' as label\n",
    "    \n",
    "    from dti.dti_sh_demo_log\n",
    "    where (logtime >= '{start_date}' and logtime < '{end_date}')\n",
    "    and hash == '{attack}'\n",
    "    group by lgtime, src_ip, dst_ip\n",
    "    limit {limit}\n",
    "    \"\"\".replace('{interval}', interval).replace('{start_date}', start_date).replace('{end_date}', end_date).replace('{limit}',limit).replace('{interval}',interval).replace('{attack}',attack)\n",
    "    \n",
    "    return sql\n",
    "\n",
    "def create_w2v(version, data):\n",
    "    if version == 'host':\n",
    "        length = host_len\n",
    "        vec = host_vec\n",
    "    elif version == 'agent':\n",
    "        length = agent_len\n",
    "        vec = agent_vec\n",
    "    elif version == 'path':\n",
    "        length = path_len\n",
    "        vec = path_vec\n",
    "    elif version == 'query':\n",
    "        length = query_len\n",
    "        vec = query_vec        \n",
    "    model = Word2Vec.load(\"w2v_model/{}.model\".format(version))\n",
    "    temp_list = []\n",
    "    for i in range(length):\n",
    "        if i < len(data):\n",
    "            try:\n",
    "                temp_list.append(model.wv[data[i]].tolist())\n",
    "            except:\n",
    "                temp_list.append([0 for i in range(vec)])\n",
    "        else:\n",
    "            temp_list.append([0 for i in range(vec)])\n",
    "    return temp_list"
   ]
  },
  {
   "cell_type": "code",
   "execution_count": 2,
   "metadata": {},
   "outputs": [],
   "source": [
    "config = {\n",
    "    \"common\": {\n",
    "        \"model_name\": \"cnn_model\",\n",
    "        \"model_path\": \"w2v_model\",\n",
    "        \"scaler\":\"minmaxscaler\",\n",
    "        \"vec\":\"vectorization\",\n",
    "        \"encoder\":\"onehotencoder\"\n",
    "    },\n",
    "    \"train\": {\n",
    "        \"data_load\": 0,\n",
    "        \"crontab\": \"*/30 * * * *\",\n",
    "        \"now_delta\": \"minutes=0\",\n",
    "        \"prev_delta\": \"days=30\",\n",
    "        \"max_depth\":100, ## decision tree depth\n",
    "        \"optimizer_help\": ['Adam', 'SGD'],\n",
    "        \"optimizer\": 'Adam',\n",
    "        \"learning_rate\": 0.0001,\n",
    "        \"batch_size\": 32,\n",
    "        \"epochs\": 500,\n",
    "        \"result_table\": \"result\"\n",
    "    },\n",
    "    \"predict\": {\n",
    "        \"crontab\": \"*/1 * * * *\",\n",
    "        \"now_delta\": \"minutes=0\",\n",
    "        \"prev_delta\": \"days=6\",\n",
    "        \"batch_size\": 8\n",
    "    }\n",
    "}"
   ]
  },
  {
   "cell_type": "markdown",
   "metadata": {},
   "source": [
    "## Data Load"
   ]
  },
  {
   "cell_type": "code",
   "execution_count": 3,
   "metadata": {},
   "outputs": [
    {
     "data": {
      "text/plain": [
       "1.2228684425354004"
      ]
     },
     "execution_count": 3,
     "metadata": {},
     "output_type": "execute_result"
    }
   ],
   "source": [
    "start_time = time.time()\n",
    "\n",
    "data,meta = execute_ch(normal_query('2021-06-01 00:00:00', '2021-07-01 00:00:00', '10000', '30 minute'))\n",
    "feats = [m[0] for m in meta]\n",
    "normal_data = pd.DataFrame(data = data, columns = feats)\n",
    "\n",
    "attack_data = pd.DataFrame()\n",
    "for i in ['XSS', 'BEACONING', 'SQL_INJECTION', 'CREDENTIAL']:\n",
    "    data,meta = execute_ch(attack_query(i, '2021-06-01 00:00:00', '2021-07-01 00:00:00', '10000', '30 minute'))\n",
    "    feats = [m[0] for m in meta]\n",
    "    temp_df = pd.DataFrame(data = data, columns = feats)\n",
    "    attack_data = pd.concat([attack_data, temp_df])\n",
    "    \n",
    "data = pd.concat([normal_data, attack_data])\n",
    "data.reset_index(drop = True, inplace = True)\n",
    "\n",
    "time.time() - start_time"
   ]
  },
  {
   "cell_type": "code",
   "execution_count": 4,
   "metadata": {},
   "outputs": [
    {
     "data": {
      "text/plain": [
       "normal           10000\n",
       "XSS               7926\n",
       "BEACONING         5349\n",
       "SQL_INJECTION     4461\n",
       "CREDENTIAL        4404\n",
       "Name: label, dtype: int64"
      ]
     },
     "execution_count": 4,
     "metadata": {},
     "output_type": "execute_result"
    }
   ],
   "source": [
    "data['label'].value_counts()"
   ]
  },
  {
   "cell_type": "markdown",
   "metadata": {},
   "source": [
    "## Data Split"
   ]
  },
  {
   "cell_type": "code",
   "execution_count": 5,
   "metadata": {},
   "outputs": [
    {
     "name": "stdout",
     "output_type": "stream",
     "text": [
      "No. of training examples: 22498\n",
      "No. of testing examples: 9642\n"
     ]
    }
   ],
   "source": [
    "# Train/Test data split\n",
    "y = data[['label']]\n",
    "x = data.drop('label', axis = 1)\n",
    "\n",
    "train_x, test_x, train_y, test_y = train_test_split(x, y, test_size=0.3, random_state=1004)\n",
    "\n",
    "train_x.reset_index(drop = True, inplace = True)\n",
    "test_x.reset_index(drop = True, inplace = True)\n",
    "train_y.reset_index(drop = True, inplace = True)\n",
    "test_y.reset_index(drop = True, inplace = True)\n",
    "\n",
    "train_y = pd.get_dummies(train_y['label'])\n",
    "test_y = pd.get_dummies(test_y['label'])\n",
    "\n",
    "print(f\"No. of training examples: {train_x.shape[0]}\")\n",
    "print(f\"No. of testing examples: {test_x.shape[0]}\")\n",
    "\n",
    "save_test_x = test_x.copy()"
   ]
  },
  {
   "cell_type": "markdown",
   "metadata": {},
   "source": [
    "## Data Toknization"
   ]
  },
  {
   "cell_type": "code",
   "execution_count": 6,
   "metadata": {},
   "outputs": [],
   "source": [
    "feat_list = ['host', 'agent', 'query']\n",
    "\n",
    "host_vec = 10\n",
    "agent_vec = 10\n",
    "query_vec = 10\n",
    "\n",
    "host_len = 20\n",
    "agent_len = 20\n",
    "query_len = 20"
   ]
  },
  {
   "cell_type": "code",
   "execution_count": 7,
   "metadata": {},
   "outputs": [
    {
     "name": "stderr",
     "output_type": "stream",
     "text": [
      "/usr/local/lib/python3.7/site-packages/ipykernel_launcher.py:3: SettingWithCopyWarning: \n",
      "A value is trying to be set on a copy of a slice from a DataFrame.\n",
      "Try using .loc[row_indexer,col_indexer] = value instead\n",
      "\n",
      "See the caveats in the documentation: https://pandas.pydata.org/pandas-docs/stable/user_guide/indexing.html#returning-a-view-versus-a-copy\n",
      "  This is separate from the ipykernel package so we can avoid doing imports until\n",
      "/usr/local/lib/python3.7/site-packages/ipykernel_launcher.py:7: SettingWithCopyWarning: \n",
      "A value is trying to be set on a copy of a slice from a DataFrame.\n",
      "Try using .loc[row_indexer,col_indexer] = value instead\n",
      "\n",
      "See the caveats in the documentation: https://pandas.pydata.org/pandas-docs/stable/user_guide/indexing.html#returning-a-view-versus-a-copy\n",
      "  import sys\n"
     ]
    }
   ],
   "source": [
    "## Train data toknizing\n",
    "for i in feat_list:\n",
    "    train_x[i] = train_x[i].str.lower().str.split()\n",
    "    \n",
    "## Train data toknizing\n",
    "for i in feat_list:\n",
    "    test_x[i] = test_x[i].str.lower().str.split()"
   ]
  },
  {
   "cell_type": "markdown",
   "metadata": {},
   "source": [
    "## Word length"
   ]
  },
  {
   "cell_type": "code",
   "execution_count": 8,
   "metadata": {
    "jupyter": {
     "source_hidden": true
    }
   },
   "outputs": [],
   "source": [
    "# data['host_len'], data['agent_len'], data['query_len'] = np.NaN, np.NaN, np.NaN\n",
    "# data['host_len'] = data['host'].apply(lambda x : len(x))\n",
    "# data['agent_len'] = data['agent'].apply(lambda x : len(x))\n",
    "# data['query_len'] = data['query'].apply(lambda x : len(x))\n",
    "\n",
    "# print(min(data['host_len']), max(data['host_len']), data['host_len'].mean())\n",
    "# print(min(data['agent_len']), max(data['agent_len']), data['agent_len'].mean())\n",
    "# print(min(data['query_len']), max(data['query_len']), data['query_len'].mean())\n",
    "\n",
    "# import matplotlib.pyplot as plt\n",
    "\n",
    "# plt.figure(figsize= (15,2))\n",
    "# plt.hist(data['host_len'], bins = 5)\n",
    "# plt.show()\n",
    "# plt.figure(figsize= (15,2))\n",
    "# plt.hist(data['agent_len'], bins = 5)\n",
    "# plt.show()\n",
    "# plt.figure(figsize= (15,2))\n",
    "# plt.hist(data['query_len'], bins = 5)\n",
    "# plt.show()"
   ]
  },
  {
   "cell_type": "markdown",
   "metadata": {},
   "source": [
    "## Word2Vec"
   ]
  },
  {
   "cell_type": "code",
   "execution_count": 9,
   "metadata": {},
   "outputs": [
    {
     "name": "stderr",
     "output_type": "stream",
     "text": [
      "/usr/local/lib/python3.7/site-packages/ipykernel_launcher.py:5: SettingWithCopyWarning: \n",
      "A value is trying to be set on a copy of a slice from a DataFrame.\n",
      "Try using .loc[row_indexer,col_indexer] = value instead\n",
      "\n",
      "See the caveats in the documentation: https://pandas.pydata.org/pandas-docs/stable/user_guide/indexing.html#returning-a-view-versus-a-copy\n",
      "  \"\"\"\n",
      "/usr/local/lib/python3.7/site-packages/ipykernel_launcher.py:6: SettingWithCopyWarning: \n",
      "A value is trying to be set on a copy of a slice from a DataFrame.\n",
      "Try using .loc[row_indexer,col_indexer] = value instead\n",
      "\n",
      "See the caveats in the documentation: https://pandas.pydata.org/pandas-docs/stable/user_guide/indexing.html#returning-a-view-versus-a-copy\n",
      "  \n",
      "/usr/local/lib/python3.7/site-packages/ipykernel_launcher.py:5: SettingWithCopyWarning: \n",
      "A value is trying to be set on a copy of a slice from a DataFrame.\n",
      "Try using .loc[row_indexer,col_indexer] = value instead\n",
      "\n",
      "See the caveats in the documentation: https://pandas.pydata.org/pandas-docs/stable/user_guide/indexing.html#returning-a-view-versus-a-copy\n",
      "  \"\"\"\n",
      "/usr/local/lib/python3.7/site-packages/ipykernel_launcher.py:6: SettingWithCopyWarning: \n",
      "A value is trying to be set on a copy of a slice from a DataFrame.\n",
      "Try using .loc[row_indexer,col_indexer] = value instead\n",
      "\n",
      "See the caveats in the documentation: https://pandas.pydata.org/pandas-docs/stable/user_guide/indexing.html#returning-a-view-versus-a-copy\n",
      "  \n",
      "/usr/local/lib/python3.7/site-packages/ipykernel_launcher.py:5: SettingWithCopyWarning: \n",
      "A value is trying to be set on a copy of a slice from a DataFrame.\n",
      "Try using .loc[row_indexer,col_indexer] = value instead\n",
      "\n",
      "See the caveats in the documentation: https://pandas.pydata.org/pandas-docs/stable/user_guide/indexing.html#returning-a-view-versus-a-copy\n",
      "  \"\"\"\n",
      "/usr/local/lib/python3.7/site-packages/ipykernel_launcher.py:6: SettingWithCopyWarning: \n",
      "A value is trying to be set on a copy of a slice from a DataFrame.\n",
      "Try using .loc[row_indexer,col_indexer] = value instead\n",
      "\n",
      "See the caveats in the documentation: https://pandas.pydata.org/pandas-docs/stable/user_guide/indexing.html#returning-a-view-versus-a-copy\n",
      "  \n"
     ]
    }
   ],
   "source": [
    "## Train data Vectorizing\n",
    "for i in feat_list:\n",
    "    model = Word2Vec(sentences=train_x[i], vector_size=host_vec, window=5, min_count=1, workers=-1, sg = 0)\n",
    "    model.save(\"w2v_model/{}.model\".format(i))\n",
    "    train_x[i] = train_x[i].apply(lambda x : x[0:globals()['{}_len'.format(i)]])\n",
    "    train_x['{}_vec'.format(i)] = train_x[i].apply(lambda x : create_w2v(i, x))"
   ]
  },
  {
   "cell_type": "code",
   "execution_count": 10,
   "metadata": {},
   "outputs": [
    {
     "name": "stderr",
     "output_type": "stream",
     "text": [
      "/usr/local/lib/python3.7/site-packages/ipykernel_launcher.py:4: SettingWithCopyWarning: \n",
      "A value is trying to be set on a copy of a slice from a DataFrame.\n",
      "Try using .loc[row_indexer,col_indexer] = value instead\n",
      "\n",
      "See the caveats in the documentation: https://pandas.pydata.org/pandas-docs/stable/user_guide/indexing.html#returning-a-view-versus-a-copy\n",
      "  after removing the cwd from sys.path.\n",
      "/usr/local/lib/python3.7/site-packages/ipykernel_launcher.py:5: SettingWithCopyWarning: \n",
      "A value is trying to be set on a copy of a slice from a DataFrame.\n",
      "Try using .loc[row_indexer,col_indexer] = value instead\n",
      "\n",
      "See the caveats in the documentation: https://pandas.pydata.org/pandas-docs/stable/user_guide/indexing.html#returning-a-view-versus-a-copy\n",
      "  \"\"\"\n",
      "/usr/local/lib/python3.7/site-packages/ipykernel_launcher.py:4: SettingWithCopyWarning: \n",
      "A value is trying to be set on a copy of a slice from a DataFrame.\n",
      "Try using .loc[row_indexer,col_indexer] = value instead\n",
      "\n",
      "See the caveats in the documentation: https://pandas.pydata.org/pandas-docs/stable/user_guide/indexing.html#returning-a-view-versus-a-copy\n",
      "  after removing the cwd from sys.path.\n",
      "/usr/local/lib/python3.7/site-packages/ipykernel_launcher.py:5: SettingWithCopyWarning: \n",
      "A value is trying to be set on a copy of a slice from a DataFrame.\n",
      "Try using .loc[row_indexer,col_indexer] = value instead\n",
      "\n",
      "See the caveats in the documentation: https://pandas.pydata.org/pandas-docs/stable/user_guide/indexing.html#returning-a-view-versus-a-copy\n",
      "  \"\"\"\n",
      "/usr/local/lib/python3.7/site-packages/ipykernel_launcher.py:4: SettingWithCopyWarning: \n",
      "A value is trying to be set on a copy of a slice from a DataFrame.\n",
      "Try using .loc[row_indexer,col_indexer] = value instead\n",
      "\n",
      "See the caveats in the documentation: https://pandas.pydata.org/pandas-docs/stable/user_guide/indexing.html#returning-a-view-versus-a-copy\n",
      "  after removing the cwd from sys.path.\n",
      "/usr/local/lib/python3.7/site-packages/ipykernel_launcher.py:5: SettingWithCopyWarning: \n",
      "A value is trying to be set on a copy of a slice from a DataFrame.\n",
      "Try using .loc[row_indexer,col_indexer] = value instead\n",
      "\n",
      "See the caveats in the documentation: https://pandas.pydata.org/pandas-docs/stable/user_guide/indexing.html#returning-a-view-versus-a-copy\n",
      "  \"\"\"\n"
     ]
    }
   ],
   "source": [
    "## Test data Vectorizing\n",
    "for i in feat_list:\n",
    "    model = Word2Vec.load(\"w2v_model/{}.model\".format(i))\n",
    "    test_x[i] = test_x[i].apply(lambda x : x[0:globals()['{}_len'.format(i)]])\n",
    "    test_x['{}_vec'.format(i)] = test_x[i].apply(lambda x : create_w2v(i, x))"
   ]
  },
  {
   "cell_type": "markdown",
   "metadata": {},
   "source": [
    "## Model Fitting"
   ]
  },
  {
   "cell_type": "code",
   "execution_count": 11,
   "metadata": {
    "scrolled": true
   },
   "outputs": [
    {
     "name": "stdout",
     "output_type": "stream",
     "text": [
      "Epoch 1/500\n",
      "704/704 [==============================] - 7s 5ms/step - loss: 0.9582 - categorical_crossentropy: 0.9582 - accuracy: 0.6236\n",
      "Epoch 2/500\n",
      "704/704 [==============================] - 4s 5ms/step - loss: 0.4008 - categorical_crossentropy: 0.4008 - accuracy: 0.8620\n",
      "Epoch 3/500\n",
      "704/704 [==============================] - 4s 5ms/step - loss: 0.3060 - categorical_crossentropy: 0.3060 - accuracy: 0.8962\n",
      "Epoch 4/500\n",
      "704/704 [==============================] - 3s 5ms/step - loss: 0.2454 - categorical_crossentropy: 0.2454 - accuracy: 0.9179\n",
      "Epoch 5/500\n",
      "704/704 [==============================] - 4s 5ms/step - loss: 0.2147 - categorical_crossentropy: 0.2147 - accuracy: 0.9281\n",
      "Epoch 6/500\n",
      "704/704 [==============================] - 4s 5ms/step - loss: 0.1981 - categorical_crossentropy: 0.1981 - accuracy: 0.9353\n",
      "Epoch 7/500\n",
      "704/704 [==============================] - 4s 5ms/step - loss: 0.1844 - categorical_crossentropy: 0.1844 - accuracy: 0.9364\n",
      "Epoch 8/500\n",
      "704/704 [==============================] - 4s 5ms/step - loss: 0.1647 - categorical_crossentropy: 0.1647 - accuracy: 0.9455\n",
      "Epoch 9/500\n",
      "704/704 [==============================] - 4s 5ms/step - loss: 0.1524 - categorical_crossentropy: 0.1524 - accuracy: 0.9485\n",
      "Epoch 10/500\n",
      "704/704 [==============================] - 4s 5ms/step - loss: 0.1443 - categorical_crossentropy: 0.1443 - accuracy: 0.9524\n",
      "Epoch 11/500\n",
      "704/704 [==============================] - 4s 5ms/step - loss: 0.1330 - categorical_crossentropy: 0.1330 - accuracy: 0.9535\n",
      "Epoch 12/500\n",
      "704/704 [==============================] - 4s 5ms/step - loss: 0.1215 - categorical_crossentropy: 0.1215 - accuracy: 0.9581\n",
      "Epoch 13/500\n",
      "704/704 [==============================] - 4s 5ms/step - loss: 0.1214 - categorical_crossentropy: 0.1214 - accuracy: 0.9585\n",
      "Epoch 14/500\n",
      "704/704 [==============================] - 4s 5ms/step - loss: 0.1147 - categorical_crossentropy: 0.1147 - accuracy: 0.9611\n",
      "Epoch 15/500\n",
      "704/704 [==============================] - 4s 5ms/step - loss: 0.1170 - categorical_crossentropy: 0.1170 - accuracy: 0.9600\n",
      "Epoch 16/500\n",
      "704/704 [==============================] - 3s 5ms/step - loss: 0.1021 - categorical_crossentropy: 0.1021 - accuracy: 0.9659\n",
      "Epoch 17/500\n",
      "704/704 [==============================] - 4s 5ms/step - loss: 0.1002 - categorical_crossentropy: 0.1002 - accuracy: 0.9655\n",
      "Epoch 18/500\n",
      "704/704 [==============================] - 3s 5ms/step - loss: 0.1017 - categorical_crossentropy: 0.1017 - accuracy: 0.9647\n",
      "Epoch 19/500\n",
      "704/704 [==============================] - 4s 5ms/step - loss: 0.0960 - categorical_crossentropy: 0.0960 - accuracy: 0.9666\n",
      "Epoch 20/500\n",
      "704/704 [==============================] - 4s 5ms/step - loss: 0.0979 - categorical_crossentropy: 0.0979 - accuracy: 0.9676\n",
      "Epoch 21/500\n",
      "704/704 [==============================] - 4s 5ms/step - loss: 0.0854 - categorical_crossentropy: 0.0854 - accuracy: 0.9719\n",
      "Epoch 22/500\n",
      "704/704 [==============================] - 4s 6ms/step - loss: 0.0822 - categorical_crossentropy: 0.0822 - accuracy: 0.9709\n",
      "Epoch 23/500\n",
      "704/704 [==============================] - 4s 5ms/step - loss: 0.0829 - categorical_crossentropy: 0.0829 - accuracy: 0.9712\n",
      "Epoch 00023: early stopping\n"
     ]
    },
    {
     "data": {
      "text/plain": [
       "('MODEL HAS BEEN SAVED TO /home/ctilab/workspace/sophia/NLP/w2v_model/1209',\n",
       " <tensorflow.python.keras.callbacks.History at 0x7f4924747890>)"
      ]
     },
     "execution_count": 11,
     "metadata": {},
     "output_type": "execute_result"
    }
   ],
   "source": [
    "train_x_vec = train_x[['{}_vec'.format(i) for i in feat_list]].copy()\n",
    "train_x_vec = np.array(np.array(train_x_vec).tolist())\n",
    "\n",
    "config[\"x_data_shape\"] = train_x_vec.shape\n",
    "config[\"y_data_shape\"] = train_y.shape\n",
    "\n",
    "model = AttackClassification(version='1209', mode='train', config=config)\n",
    "model.optimize_nn(train_x_vec, train_y)"
   ]
  },
  {
   "cell_type": "code",
   "execution_count": 12,
   "metadata": {},
   "outputs": [
    {
     "name": "stdout",
     "output_type": "stream",
     "text": [
      "CONFUSION MATRIX\n",
      "[[3628   71   52    1   19]\n",
      " [  73 2980   20    0    3]\n",
      " [ 137   43 2847    0   98]\n",
      " [   3    7    0 5514    2]\n",
      " [   9    1   25    1 6964]]\n",
      "ACCURACY SCORE : 0.974886656591697\n"
     ]
    }
   ],
   "source": [
    "true, pred = model.validation(train_x_vec, train_y.values)"
   ]
  },
  {
   "cell_type": "code",
   "execution_count": 13,
   "metadata": {},
   "outputs": [
    {
     "name": "stdout",
     "output_type": "stream",
     "text": [
      "CONFUSION MATRIX\n",
      "[[1471   52   38    5   12]\n",
      " [  50 1243   27    1    7]\n",
      " [  75   44 1157    1   59]\n",
      " [   4    4    0 2391    1]\n",
      " [   3    1    7    0 2989]]\n",
      "ACCURACY SCORE : 0.9594482472516076\n"
     ]
    }
   ],
   "source": [
    "test_x_vec = test_x[['{}_vec'.format(i) for i in feat_list]].copy()\n",
    "test_x_vec = np.array(np.array(test_x_vec).tolist())\n",
    "\n",
    "true, pred = model.validation(test_x_vec, test_y.values)"
   ]
  },
  {
   "cell_type": "code",
   "execution_count": null,
   "metadata": {},
   "outputs": [],
   "source": []
  },
  {
   "cell_type": "code",
   "execution_count": null,
   "metadata": {},
   "outputs": [],
   "source": []
  }
 ],
 "metadata": {
  "kernelspec": {
   "display_name": "Python 3",
   "language": "python",
   "name": "python3"
  },
  "language_info": {
   "codemirror_mode": {
    "name": "ipython",
    "version": 3
   },
   "file_extension": ".py",
   "mimetype": "text/x-python",
   "name": "python",
   "nbconvert_exporter": "python",
   "pygments_lexer": "ipython3",
   "version": "3.7.4"
  }
 },
 "nbformat": 4,
 "nbformat_minor": 4
}

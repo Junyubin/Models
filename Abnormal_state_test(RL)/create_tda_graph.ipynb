{
 "cells": [
  {
   "cell_type": "code",
   "execution_count": 223,
   "metadata": {
    "scrolled": true
   },
   "outputs": [],
   "source": [
    "import warnings\n",
    "warnings.filterwarnings(\"ignore\")\n",
    "from data import *\n",
    "from prep import *\n",
    "from utils import *"
   ]
  },
  {
   "cell_type": "markdown",
   "metadata": {},
   "source": [
    "### 데이터 개수\n",
    "+ total 52,561\n",
    "  + train 36,792  (70%)\n",
    "  + pred 15,769   (30%)\n",
    "  + normal 30,150\n",
    "  + 비정상 22,411\n",
    "  [ xss 8,070, beaconing 5,410, sql_injection 4,496, credential 4,435]"
   ]
  },
  {
   "cell_type": "markdown",
   "metadata": {},
   "source": [
    "+ #### Model config load"
   ]
  },
  {
   "cell_type": "code",
   "execution_count": 2,
   "metadata": {},
   "outputs": [
    {
     "name": "stdout",
     "output_type": "stream",
     "text": [
      "model name : [it_network_sl_model]\n",
      "model config : {'common': {'model_name': 'it_network_sl_model', 'model_path': 'it_network_model_path', 'model_id': 337, 'config_name': 'it_network_supervised_learning', 'save_version': 'v1'}, 'train': {'optimizer': 'Adam', 'batch_size': 64, 'epochs': 100, 'learning_rate': 0.001}, 'predict': {'batch_size': 8, 'result_table': 'it_network_AD_result'}}\n"
     ]
    }
   ],
   "source": [
    "model_config = get_config()"
   ]
  },
  {
   "cell_type": "code",
   "execution_count": 3,
   "metadata": {},
   "outputs": [],
   "source": [
    "model_id = model_config['common']['model_id']\n",
    "save_version = model_config['common']['save_version']\n",
    "table = model_config['predict']['result_table']"
   ]
  },
  {
   "cell_type": "markdown",
   "metadata": {},
   "source": [
    "+ ## CREATE TRAIN GRAPH"
   ]
  },
  {
   "cell_type": "markdown",
   "metadata": {},
   "source": [
    "+ #### Data load(train & prediction)"
   ]
  },
  {
   "cell_type": "code",
   "execution_count": 4,
   "metadata": {
    "scrolled": true
   },
   "outputs": [
    {
     "name": "stdout",
     "output_type": "stream",
     "text": [
      "NORMAL DATA START DATETIME:  2021-06-08 00:00:00\n",
      "ATTACK DATA START DATETIME:  2021-06-08 00:00:00\n",
      "DATA END DATETIME:  2021-06-10 23:59:59\n",
      "******* NORMAL DATA LOAD *******\n",
      "{'host': '192.168.0.42', 'port': '9001', 'timeout': '600000', 'thread': '10'}\n",
      "<clickhouse_driver.client.Client object at 0x7f88b4183850>\n",
      "******* NORMAL DATA INFO *******\n",
      "<class 'pandas.core.frame.DataFrame'>\n",
      "RangeIndex: 30150 entries, 0 to 30149\n",
      "Data columns (total 7 columns):\n",
      " #   Column  Non-Null Count  Dtype                     \n",
      "---  ------  --------------  -----                     \n",
      " 0   lgtime  30150 non-null  datetime64[ns, Asia/Seoul]\n",
      " 1   src_ip  30150 non-null  object                    \n",
      " 2   dst_ip  30150 non-null  object                    \n",
      " 3   host    30150 non-null  object                    \n",
      " 4   agent   30150 non-null  object                    \n",
      " 5   query   30150 non-null  object                    \n",
      " 6   label   30150 non-null  object                    \n",
      "dtypes: datetime64[ns, Asia/Seoul](1), object(6)\n",
      "memory usage: 1.6+ MB\n",
      "None\n",
      "******* ATTACK DATA LOAD *******\n",
      "{'host': '192.168.0.42', 'port': '9001', 'timeout': '600000', 'thread': '10'}\n",
      "<clickhouse_driver.client.Client object at 0x7f88b2ea9610>\n",
      "{'host': '192.168.0.42', 'port': '9001', 'timeout': '600000', 'thread': '10'}\n",
      "<clickhouse_driver.client.Client object at 0x7f88b4179290>\n",
      "{'host': '192.168.0.42', 'port': '9001', 'timeout': '600000', 'thread': '10'}\n",
      "<clickhouse_driver.client.Client object at 0x7f88b4183910>\n",
      "{'host': '192.168.0.42', 'port': '9001', 'timeout': '600000', 'thread': '10'}\n",
      "<clickhouse_driver.client.Client object at 0x7f88b413c350>\n",
      "******* ATTACK DATA INFO *******\n",
      "<class 'pandas.core.frame.DataFrame'>\n",
      "Int64Index: 22411 entries, 0 to 8069\n",
      "Data columns (total 7 columns):\n",
      " #   Column  Non-Null Count  Dtype                     \n",
      "---  ------  --------------  -----                     \n",
      " 0   lgtime  22411 non-null  datetime64[ns, Asia/Seoul]\n",
      " 1   src_ip  22411 non-null  object                    \n",
      " 2   dst_ip  22411 non-null  object                    \n",
      " 3   host    22411 non-null  object                    \n",
      " 4   agent   22411 non-null  object                    \n",
      " 5   query   22411 non-null  object                    \n",
      " 6   label   22411 non-null  object                    \n",
      "dtypes: datetime64[ns, Asia/Seoul](1), object(6)\n",
      "memory usage: 1.4+ MB\n",
      "None\n",
      "TRAIN INDEXES :  ['lgtime', 'src_ip', 'dst_ip']\n",
      "TRAIN STRING :  ['host', 'agent', 'query']\n",
      "TRAIN CATEGORY :  []\n",
      "PREDICTION INDEXES :  ['lgtime', 'src_ip', 'dst_ip']\n",
      "PREDICTION STRING :  ['host', 'agent', 'query']\n",
      "PREDICTION CATEGORY :  []\n"
     ]
    }
   ],
   "source": [
    "dataClass = DataCreation(model_id)"
   ]
  },
  {
   "cell_type": "markdown",
   "metadata": {},
   "source": [
    "+ #### Train data"
   ]
  },
  {
   "cell_type": "code",
   "execution_count": 5,
   "metadata": {},
   "outputs": [
    {
     "data": {
      "text/html": [
       "<div>\n",
       "<style scoped>\n",
       "    .dataframe tbody tr th:only-of-type {\n",
       "        vertical-align: middle;\n",
       "    }\n",
       "\n",
       "    .dataframe tbody tr th {\n",
       "        vertical-align: top;\n",
       "    }\n",
       "\n",
       "    .dataframe thead th {\n",
       "        text-align: right;\n",
       "    }\n",
       "</style>\n",
       "<table border=\"1\" class=\"dataframe\">\n",
       "  <thead>\n",
       "    <tr style=\"text-align: right;\">\n",
       "      <th></th>\n",
       "      <th>host</th>\n",
       "      <th>agent</th>\n",
       "      <th>query</th>\n",
       "      <th>label</th>\n",
       "    </tr>\n",
       "  </thead>\n",
       "  <tbody>\n",
       "    <tr>\n",
       "      <th>0</th>\n",
       "      <td>www victim com</td>\n",
       "      <td>Mozilla      Windows NT       Win    x    Appl...</td>\n",
       "      <td>bbs modify php contents id    &lt;style&gt; keyframe...</td>\n",
       "      <td>XSS</td>\n",
       "    </tr>\n",
       "    <tr>\n",
       "      <th>1</th>\n",
       "      <td>www victim com</td>\n",
       "      <td>Mozilla      compatible  MSIE      Windows NT ...</td>\n",
       "      <td>bbs board php page     writer JCK E</td>\n",
       "      <td>normal</td>\n",
       "    </tr>\n",
       "    <tr>\n",
       "      <th>2</th>\n",
       "      <td>www victim com</td>\n",
       "      <td>Mozilla      Windows NT       WOW    AppleWebK...</td>\n",
       "      <td>bbs delete php contents id     writer AE</td>\n",
       "      <td>normal</td>\n",
       "    </tr>\n",
       "    <tr>\n",
       "      <th>3</th>\n",
       "      <td>www victim com</td>\n",
       "      <td>Mozilla      Windows NT       Win    x    Appl...</td>\n",
       "      <td>bbs board php page     writer g</td>\n",
       "      <td>normal</td>\n",
       "    </tr>\n",
       "    <tr>\n",
       "      <th>4</th>\n",
       "      <td>www victim com</td>\n",
       "      <td>Mozilla      compatible  MSIE      Windows NT ...</td>\n",
       "      <td>bbs board php page     writer   O</td>\n",
       "      <td>normal</td>\n",
       "    </tr>\n",
       "    <tr>\n",
       "      <th>...</th>\n",
       "      <td>...</td>\n",
       "      <td>...</td>\n",
       "      <td>...</td>\n",
       "      <td>...</td>\n",
       "    </tr>\n",
       "    <tr>\n",
       "      <th>36787</th>\n",
       "      <td>www victim com</td>\n",
       "      <td>Mozilla      compatible  MSIE      Windows NT ...</td>\n",
       "      <td>bbs write php contents id \"nick PBX num xcelad...</td>\n",
       "      <td>CREDENTIAL</td>\n",
       "    </tr>\n",
       "    <tr>\n",
       "      <th>36788</th>\n",
       "      <td>www victim com</td>\n",
       "      <td>Mozilla     CK {}  Windows NT      WOW    Trid...</td>\n",
       "      <td>bbs write php contents id     writer D</td>\n",
       "      <td>normal</td>\n",
       "    </tr>\n",
       "    <tr>\n",
       "      <th>36789</th>\n",
       "      <td>www victim com</td>\n",
       "      <td>Mozilla     CK {}  Windows NT      WOW    Trid...</td>\n",
       "      <td>bbs delete php contents id     writer q</td>\n",
       "      <td>normal</td>\n",
       "    </tr>\n",
       "    <tr>\n",
       "      <th>36790</th>\n",
       "      <td>www victim com</td>\n",
       "      <td>Mozilla      Windows NT       Win    x    Appl...</td>\n",
       "      <td>bbs write php contents id    writer  YApg</td>\n",
       "      <td>normal</td>\n",
       "    </tr>\n",
       "    <tr>\n",
       "      <th>36791</th>\n",
       "      <td>www victim com</td>\n",
       "      <td>Mozilla      compatible  MSIE      Windows NT ...</td>\n",
       "      <td>bbs write php contents id     writer  Awlf</td>\n",
       "      <td>normal</td>\n",
       "    </tr>\n",
       "  </tbody>\n",
       "</table>\n",
       "<p>36792 rows × 4 columns</p>\n",
       "</div>"
      ],
      "text/plain": [
       "                 host                                              agent  \\\n",
       "0      www victim com  Mozilla      Windows NT       Win    x    Appl...   \n",
       "1      www victim com  Mozilla      compatible  MSIE      Windows NT ...   \n",
       "2      www victim com  Mozilla      Windows NT       WOW    AppleWebK...   \n",
       "3      www victim com  Mozilla      Windows NT       Win    x    Appl...   \n",
       "4      www victim com  Mozilla      compatible  MSIE      Windows NT ...   \n",
       "...               ...                                                ...   \n",
       "36787  www victim com  Mozilla      compatible  MSIE      Windows NT ...   \n",
       "36788  www victim com  Mozilla     CK {}  Windows NT      WOW    Trid...   \n",
       "36789  www victim com  Mozilla     CK {}  Windows NT      WOW    Trid...   \n",
       "36790  www victim com  Mozilla      Windows NT       Win    x    Appl...   \n",
       "36791  www victim com  Mozilla      compatible  MSIE      Windows NT ...   \n",
       "\n",
       "                                                   query       label  \n",
       "0      bbs modify php contents id    <style> keyframe...         XSS  \n",
       "1                    bbs board php page     writer JCK E      normal  \n",
       "2               bbs delete php contents id     writer AE      normal  \n",
       "3                        bbs board php page     writer g      normal  \n",
       "4                      bbs board php page     writer   O      normal  \n",
       "...                                                  ...         ...  \n",
       "36787  bbs write php contents id \"nick PBX num xcelad...  CREDENTIAL  \n",
       "36788             bbs write php contents id     writer D      normal  \n",
       "36789            bbs delete php contents id     writer q      normal  \n",
       "36790          bbs write php contents id    writer  YApg      normal  \n",
       "36791         bbs write php contents id     writer  Awlf      normal  \n",
       "\n",
       "[36792 rows x 4 columns]"
      ]
     },
     "execution_count": 5,
     "metadata": {},
     "output_type": "execute_result"
    }
   ],
   "source": [
    "pd.concat([dataClass.train_str_data, dataClass.train_label_data], axis = 1)"
   ]
  },
  {
   "cell_type": "markdown",
   "metadata": {},
   "source": [
    "+ #### Preprocessing (one-hot encoding, TF-IDF)"
   ]
  },
  {
   "cell_type": "markdown",
   "metadata": {},
   "source": [
    "+ #### Train data preprocessing transform & load from pickle"
   ]
  },
  {
   "cell_type": "code",
   "execution_count": 6,
   "metadata": {},
   "outputs": [
    {
     "name": "stdout",
     "output_type": "stream",
     "text": [
      "host model load complete **************\n",
      "agent model load complete **************\n",
      "query model load complete **************\n"
     ]
    }
   ],
   "source": [
    "strPrep = StrProcessing()\n",
    "train_prep_data = strPrep.load_tfidf_model_trans(dataClass.train_str_data, list(dataClass.train_str_data), 10000, save_version)"
   ]
  },
  {
   "cell_type": "code",
   "execution_count": 7,
   "metadata": {},
   "outputs": [],
   "source": [
    "X_train = train_prep_data.copy()\n",
    "y_train = dataClass.train_label_data.copy()"
   ]
  },
  {
   "cell_type": "markdown",
   "metadata": {},
   "source": [
    "+ #### label change"
   ]
  },
  {
   "cell_type": "code",
   "execution_count": 8,
   "metadata": {},
   "outputs": [],
   "source": [
    "react_dict = {'XSS' : 'Validate and invalidate input and output values, Validation of length, character, format, and business rules for input data before data is entered'\n",
    "        ,'CREDENTIAL' : 'Set the number of password failures, Introduction of additional authentication system, Big data analysis through web logging'\n",
    "        ,'SQL_INJECTION' : 'Input validation, Using stored procedures, Allow access only to trusted networks and servers'\n",
    "        ,'BEACONING' : 'Remove or disable extraneous applications, services, and daemons from your device, Block inbound and outbound traffic from suspicious endpoints at the network perimeter'}"
   ]
  },
  {
   "cell_type": "code",
   "execution_count": 9,
   "metadata": {},
   "outputs": [],
   "source": [
    "for i in range(len(y_train)):\n",
    "    if y_train.label[i] != 'normal':\n",
    "        y_train.label[i] = react_dict[y_train.label[i]]"
   ]
  },
  {
   "cell_type": "markdown",
   "metadata": {},
   "source": [
    "+ ### KeplerMapper"
   ]
  },
  {
   "cell_type": "markdown",
   "metadata": {},
   "source": [
    "+ #### create normal & attack shuffle data"
   ]
  },
  {
   "cell_type": "code",
   "execution_count": 10,
   "metadata": {},
   "outputs": [],
   "source": [
    "def create_shuffle_data(x, y, attack_name):\n",
    "    total = pd.concat([x, y], axis = 1)\n",
    "    normal_df = total[total.label == 'normal'].sample(n=50)\n",
    "    attack_df = total[total.label == attack_name].sample(n=50)\n",
    "    \n",
    "    shuffle_df = pd.concat([normal_df, attack_df]).sample(frac=1)\n",
    "    \n",
    "    return shuffle_df"
   ]
  },
  {
   "cell_type": "code",
   "execution_count": 11,
   "metadata": {},
   "outputs": [],
   "source": [
    "import sklearn\n",
    "import kmapper as km\n",
    "from itertools import product\n",
    "import sys\n",
    "import os"
   ]
  },
  {
   "cell_type": "code",
   "execution_count": 12,
   "metadata": {},
   "outputs": [],
   "source": [
    "import stellargraph as sg\n",
    "from stellargraph.mapper import PaddedGraphGenerator\n",
    "from stellargraph.layer import DeepGraphCNN\n",
    "from stellargraph import StellarGraph\n",
    "from stellargraph import datasets\n",
    "from matplotlib import pyplot as plt\n",
    "\n",
    "plt.rcParams[\"figure.figsize\"] = (1.8,1.8)"
   ]
  },
  {
   "cell_type": "code",
   "execution_count": null,
   "metadata": {
    "scrolled": true
   },
   "outputs": [],
   "source": [
    "mapper = km.KeplerMapper(verbose=0)\n",
    "attack_list = list(set(y_train.label))\n",
    "batch_size = 10\n",
    "cnt = 1\n",
    "\n",
    "for loof in range(800):\n",
    "    for attack_name in attack_list:\n",
    "        stellar_list = []\n",
    "\n",
    "        if not os.path.exists(sys.path[0]+'/train_graph/'+ attack_name):\n",
    "            os.makedirs(sys.path[0]+'/train_graph/'+ attack_name)\n",
    "        \n",
    "#         if not os.path.exists(sys.path[0]+'/train_image/'+ attack_name):\n",
    "#             os.makedirs(sys.path[0]+'/train_image/'+ attack_name)\n",
    "        \n",
    "        save_raw_data = pd.DataFrame()\n",
    "        \n",
    "        for batch_length in range(batch_size):\n",
    "            shuffle_df = create_shuffle_data(X_train, y_train, attack_name)\n",
    "                        \n",
    "            shuffle_df.drop('label', axis = 1, inplace = True)\n",
    "            \n",
    "            raw_data = pd.concat([dataClass.train_index_data.iloc[shuffle_df.index], y_train.iloc[shuffle_df.index]], axis = 1)\n",
    "            save_raw_data = pd.concat([save_raw_data, raw_data])\n",
    "            \n",
    "            # 데이터 차원 축소 (고차원 데이터 -> 저차원)\n",
    "            lens = mapper.fit_transform(shuffle_df, projection=sklearn.decomposition.PCA(n_components = 2))\n",
    "            \n",
    "          # 노드, 엣지, 메타 정보로 그래프 생성\n",
    "            graph = mapper.map(\n",
    "            lens,\n",
    "            shuffle_df, #클러스터링을 실행할 원본 데이터\n",
    "            clusterer=sklearn.cluster.KMeans(2),\n",
    "            cover=km.Cover(n_cubes=10, perc_overlap=0.5) #렌즈 커버 구성표 / lens 데이터 기반 커버 구성 / 하이퍼큐브의 수와 간격 (중첩)을 조절, 0.5 = 50% 중첩\n",
    "        )\n",
    "            # 차원 축소된 lens 데이터를 기반으로 hypercube를 생성, hypercube별 인덱스를 추출, 추출된 인덱스를 원본데이터에서 조회, hypercube별(원본) cluster 진행\n",
    "            \n",
    "            \n",
    "#             km.draw_matplotlib(graph)\n",
    "#             plt.savefig(sys.path[0] + \"/train_image/{}/\".format(attack_name) + attack_name + '_' + str(cnt)+'.png')\n",
    "            \n",
    "            links_key = list(graph['links'].keys())\n",
    "            \n",
    "            product_list = []\n",
    "            for link_key in links_key:\n",
    "                if len(graph['links'][link_key]) != 0:\n",
    "                    for m in range(len(graph['links'][link_key])):\n",
    "                        try:\n",
    "                            for k in product(graph['nodes'][link_key], graph['nodes'][graph['links'][link_key][m]], repeat=1):\n",
    "                                product_list.append(list(k))\n",
    "                        except:\n",
    "                            pass\n",
    "                        \n",
    "            for node_key in graph['nodes'].keys():\n",
    "                for k in product(graph['nodes'][node_key], graph['nodes'][node_key], repeat=1):\n",
    "                    product_list.append(list(k))\n",
    "                    \n",
    "            product_df = pd.DataFrame(data=product_list, columns=['source', 'target'])\n",
    "            product_df.drop_duplicates(inplace=True)\n",
    "            \n",
    "            stellar_graph = sg.StellarGraph(shuffle_df.values, product_df)\n",
    "            stellar_list.append(stellar_graph)\n",
    "            \n",
    "#             km.draw_matplotlib(graph)\n",
    "        \n",
    "        with open(sys.path[0] + \"/train_graph/{}/\".format(attack_name) + attack_name + '_' + str(cnt) + \".pickle\", \"wb\") as f:\n",
    "            pickle.dump(stellar_list, f)\n",
    "\n",
    "    cnt += 1"
   ]
  },
  {
   "cell_type": "markdown",
   "metadata": {},
   "source": [
    "+ ## CREATE PREDICTION GRAPH"
   ]
  },
  {
   "cell_type": "markdown",
   "metadata": {},
   "source": [
    "+ #### prediction data"
   ]
  },
  {
   "cell_type": "code",
   "execution_count": 19,
   "metadata": {},
   "outputs": [
    {
     "data": {
      "text/html": [
       "<div>\n",
       "<style scoped>\n",
       "    .dataframe tbody tr th:only-of-type {\n",
       "        vertical-align: middle;\n",
       "    }\n",
       "\n",
       "    .dataframe tbody tr th {\n",
       "        vertical-align: top;\n",
       "    }\n",
       "\n",
       "    .dataframe thead th {\n",
       "        text-align: right;\n",
       "    }\n",
       "</style>\n",
       "<table border=\"1\" class=\"dataframe\">\n",
       "  <thead>\n",
       "    <tr style=\"text-align: right;\">\n",
       "      <th></th>\n",
       "      <th>host</th>\n",
       "      <th>agent</th>\n",
       "      <th>query</th>\n",
       "      <th>label</th>\n",
       "    </tr>\n",
       "  </thead>\n",
       "  <tbody>\n",
       "    <tr>\n",
       "      <th>36792</th>\n",
       "      <td>www victim com</td>\n",
       "      <td>Mozilla      Windows NT      AppleWebKit      ...</td>\n",
       "      <td>bbs board php page     writer K</td>\n",
       "      <td>normal</td>\n",
       "    </tr>\n",
       "    <tr>\n",
       "      <th>36793</th>\n",
       "      <td>www victim com</td>\n",
       "      <td>Mozilla      Windows NT      Win    x    Apple...</td>\n",
       "      <td>bbs write php contents id     writer CHgFx</td>\n",
       "      <td>normal</td>\n",
       "    </tr>\n",
       "    <tr>\n",
       "      <th>36794</th>\n",
       "      <td>www victim com</td>\n",
       "      <td>Mozilla      compatible  MSIE      Windows NT ...</td>\n",
       "      <td>bbs write php contents id '    e    e    c    ...</td>\n",
       "      <td>BEACONING</td>\n",
       "    </tr>\n",
       "    <tr>\n",
       "      <th>36795</th>\n",
       "      <td>www victim com</td>\n",
       "      <td>Mozilla      compatible  MSIE      Windows NT ...</td>\n",
       "      <td>bbs board php page     writer FK</td>\n",
       "      <td>normal</td>\n",
       "    </tr>\n",
       "    <tr>\n",
       "      <th>36796</th>\n",
       "      <td>www victim com</td>\n",
       "      <td>Mozilla      Windows NT      AppleWebKit      ...</td>\n",
       "      <td>bbs modify php contents id     writer  lq</td>\n",
       "      <td>normal</td>\n",
       "    </tr>\n",
       "    <tr>\n",
       "      <th>...</th>\n",
       "      <td>...</td>\n",
       "      <td>...</td>\n",
       "      <td>...</td>\n",
       "      <td>...</td>\n",
       "    </tr>\n",
       "    <tr>\n",
       "      <th>52556</th>\n",
       "      <td>www victim com</td>\n",
       "      <td>Mozilla      Windows NT       Win    x    Appl...</td>\n",
       "      <td>bbs write php contents id '   pathsearcherdete...</td>\n",
       "      <td>BEACONING</td>\n",
       "    </tr>\n",
       "    <tr>\n",
       "      <th>52557</th>\n",
       "      <td>www victim com</td>\n",
       "      <td>Mozilla      Windows NT       Win    x    Appl...</td>\n",
       "      <td>bbs board php page     writer VY tb</td>\n",
       "      <td>normal</td>\n",
       "    </tr>\n",
       "    <tr>\n",
       "      <th>52558</th>\n",
       "      <td>www victim com</td>\n",
       "      <td>Mozilla      compatible  MSIE      Windows NT ...</td>\n",
       "      <td>bbs delete php contents id     writer qQL</td>\n",
       "      <td>normal</td>\n",
       "    </tr>\n",
       "    <tr>\n",
       "      <th>52559</th>\n",
       "      <td>www victim com</td>\n",
       "      <td>Mozilla      Windows NT       Win    x    Appl...</td>\n",
       "      <td>bbs write php contents id 'username &lt;N A&gt; num ...</td>\n",
       "      <td>CREDENTIAL</td>\n",
       "    </tr>\n",
       "    <tr>\n",
       "      <th>52560</th>\n",
       "      <td>www victim com</td>\n",
       "      <td>Mozilla      Windows NT      WOW    AppleWebKi...</td>\n",
       "      <td>bbs modify php contents id     writer ewN</td>\n",
       "      <td>normal</td>\n",
       "    </tr>\n",
       "  </tbody>\n",
       "</table>\n",
       "<p>15769 rows × 4 columns</p>\n",
       "</div>"
      ],
      "text/plain": [
       "                 host                                              agent  \\\n",
       "36792  www victim com  Mozilla      Windows NT      AppleWebKit      ...   \n",
       "36793  www victim com  Mozilla      Windows NT      Win    x    Apple...   \n",
       "36794  www victim com  Mozilla      compatible  MSIE      Windows NT ...   \n",
       "36795  www victim com  Mozilla      compatible  MSIE      Windows NT ...   \n",
       "36796  www victim com  Mozilla      Windows NT      AppleWebKit      ...   \n",
       "...               ...                                                ...   \n",
       "52556  www victim com  Mozilla      Windows NT       Win    x    Appl...   \n",
       "52557  www victim com  Mozilla      Windows NT       Win    x    Appl...   \n",
       "52558  www victim com  Mozilla      compatible  MSIE      Windows NT ...   \n",
       "52559  www victim com  Mozilla      Windows NT       Win    x    Appl...   \n",
       "52560  www victim com  Mozilla      Windows NT      WOW    AppleWebKi...   \n",
       "\n",
       "                                                   query       label  \n",
       "36792                    bbs board php page     writer K      normal  \n",
       "36793         bbs write php contents id     writer CHgFx      normal  \n",
       "36794  bbs write php contents id '    e    e    c    ...   BEACONING  \n",
       "36795                   bbs board php page     writer FK      normal  \n",
       "36796          bbs modify php contents id     writer  lq      normal  \n",
       "...                                                  ...         ...  \n",
       "52556  bbs write php contents id '   pathsearcherdete...   BEACONING  \n",
       "52557                bbs board php page     writer VY tb      normal  \n",
       "52558          bbs delete php contents id     writer qQL      normal  \n",
       "52559  bbs write php contents id 'username <N A> num ...  CREDENTIAL  \n",
       "52560          bbs modify php contents id     writer ewN      normal  \n",
       "\n",
       "[15769 rows x 4 columns]"
      ]
     },
     "execution_count": 19,
     "metadata": {},
     "output_type": "execute_result"
    }
   ],
   "source": [
    "pd.concat([dataClass.pred_str_data, dataClass.pred_label_data], axis = 1)"
   ]
  },
  {
   "cell_type": "markdown",
   "metadata": {},
   "source": [
    "+ #### Prediction data preprocessing transform & load from pickle"
   ]
  },
  {
   "cell_type": "code",
   "execution_count": 20,
   "metadata": {},
   "outputs": [
    {
     "name": "stdout",
     "output_type": "stream",
     "text": [
      "host model load complete **************\n",
      "agent model load complete **************\n",
      "query model load complete **************\n"
     ]
    }
   ],
   "source": [
    "pred_prep_data = strPrep.load_tfidf_model_trans(dataClass.pred_str_data, list(dataClass.pred_str_data), 10000, save_version)"
   ]
  },
  {
   "cell_type": "code",
   "execution_count": 21,
   "metadata": {},
   "outputs": [],
   "source": [
    "X_pred = pred_prep_data.copy()\n",
    "y_pred = dataClass.pred_label_data.copy()\n",
    "pred_index_data = dataClass.pred_index_data.copy()"
   ]
  },
  {
   "cell_type": "code",
   "execution_count": 22,
   "metadata": {},
   "outputs": [],
   "source": [
    "y_pred.reset_index(drop = True, inplace =True)\n",
    "pred_index_data.reset_index(drop = True, inplace =True)"
   ]
  },
  {
   "cell_type": "markdown",
   "metadata": {},
   "source": [
    "+ #### label change"
   ]
  },
  {
   "cell_type": "code",
   "execution_count": 23,
   "metadata": {},
   "outputs": [],
   "source": [
    "for i in range(len(y_pred)):\n",
    "    if y_pred.label[i] != 'normal':\n",
    "        y_pred.label[i] = react_dict[y_pred.label[i]]"
   ]
  },
  {
   "cell_type": "markdown",
   "metadata": {},
   "source": [
    "+ ### KeplerMapper"
   ]
  },
  {
   "cell_type": "code",
   "execution_count": 220,
   "metadata": {
    "scrolled": true
   },
   "outputs": [],
   "source": [
    "mapper = km.KeplerMapper(verbose=0)\n",
    "attack_list = list(set(y_pred.label))\n",
    "batch_size = 10\n",
    "cnt = 1\n",
    "\n",
    "for loof in range(100):\n",
    "    for attack_name in attack_list:\n",
    "        stellar_list = []\n",
    "\n",
    "        if not os.path.exists(sys.path[0]+'/pred_graph/'+ attack_name):\n",
    "            os.makedirs(sys.path[0]+'/pred_graph/'+ attack_name)\n",
    "            \n",
    "        save_raw_data = pd.DataFrame()\n",
    "    \n",
    "        for batch_length in range(batch_size):\n",
    "            shuffle_df = create_shuffle_data(X_pred, y_pred, attack_name)\n",
    "            shuffle_df.drop('label', axis = 1, inplace = True)\n",
    "            \n",
    "            raw_data = pd.concat([pred_index_data.iloc[shuffle_df.index], y_pred.iloc[shuffle_df.index]], axis = 1)\n",
    "            \n",
    "            lens = mapper.fit_transform(shuffle_df, projection=sklearn.decomposition.PCA(n_components = 2))\n",
    "            \n",
    "            # 노드, 엣지, 메타 정보로 그래프 생성\n",
    "            graph = mapper.map(\n",
    "            lens,\n",
    "            shuffle_df,\n",
    "            clusterer=sklearn.cluster.KMeans(2),\n",
    "            cover=km.Cover(n_cubes=15, perc_overlap=0.5)\n",
    "        )\n",
    "            links_key = list(graph['links'].keys())\n",
    "\n",
    "            product_list = []\n",
    "            for link_key in links_key:\n",
    "                if len(graph['links'][link_key]) != 0:\n",
    "                    for m in range(len(graph['links'][link_key])):\n",
    "                        try:\n",
    "                            for k in product(graph['nodes'][link_key], graph['nodes'][graph['links'][link_key][m]], repeat=1):\n",
    "                                product_list.append(list(k))\n",
    "                        except:\n",
    "                            pass\n",
    "            \n",
    "            for node_key in graph['nodes'].keys():\n",
    "                for k in product(graph['nodes'][node_key], graph['nodes'][node_key], repeat=1):\n",
    "                    product_list.append(list(k))\n",
    "                        \n",
    "            product_df = pd.DataFrame(data=product_list, columns=['source', 'target'])\n",
    "            product_df.drop_duplicates(inplace=True)\n",
    "            \n",
    "            stellar_graph = sg.StellarGraph(shuffle_df.values, product_df)\n",
    "            \n",
    "            stellar_list.append([list(np.array(raw_data)), stellar_graph])\n",
    "\n",
    "        with open(sys.path[0] + \"/pred_graph/{}/\".format(attack_name) + attack_name + '_' + str(cnt) + \".pickle\", \"wb\") as f:\n",
    "            pickle.dump(stellar_list, f)\n",
    "            \n",
    "    cnt += 1"
   ]
  },
  {
   "cell_type": "code",
   "execution_count": null,
   "metadata": {},
   "outputs": [],
   "source": []
  },
  {
   "cell_type": "code",
   "execution_count": null,
   "metadata": {},
   "outputs": [],
   "source": []
  },
  {
   "cell_type": "code",
   "execution_count": null,
   "metadata": {},
   "outputs": [],
   "source": []
  },
  {
   "cell_type": "code",
   "execution_count": null,
   "metadata": {},
   "outputs": [],
   "source": []
  },
  {
   "cell_type": "code",
   "execution_count": null,
   "metadata": {},
   "outputs": [],
   "source": []
  },
  {
   "cell_type": "code",
   "execution_count": null,
   "metadata": {},
   "outputs": [],
   "source": []
  },
  {
   "cell_type": "code",
   "execution_count": null,
   "metadata": {},
   "outputs": [],
   "source": []
  },
  {
   "cell_type": "code",
   "execution_count": null,
   "metadata": {},
   "outputs": [],
   "source": []
  },
  {
   "cell_type": "code",
   "execution_count": null,
   "metadata": {},
   "outputs": [],
   "source": []
  },
  {
   "cell_type": "code",
   "execution_count": null,
   "metadata": {},
   "outputs": [],
   "source": []
  },
  {
   "cell_type": "code",
   "execution_count": null,
   "metadata": {},
   "outputs": [],
   "source": []
  },
  {
   "cell_type": "code",
   "execution_count": null,
   "metadata": {},
   "outputs": [],
   "source": []
  },
  {
   "cell_type": "code",
   "execution_count": null,
   "metadata": {},
   "outputs": [],
   "source": []
  }
 ],
 "metadata": {
  "kernelspec": {
   "display_name": "Python 3",
   "language": "python",
   "name": "python3"
  },
  "language_info": {
   "codemirror_mode": {
    "name": "ipython",
    "version": 3
   },
   "file_extension": ".py",
   "mimetype": "text/x-python",
   "name": "python",
   "nbconvert_exporter": "python",
   "pygments_lexer": "ipython3",
   "version": "3.7.4"
  }
 },
 "nbformat": 4,
 "nbformat_minor": 4
}

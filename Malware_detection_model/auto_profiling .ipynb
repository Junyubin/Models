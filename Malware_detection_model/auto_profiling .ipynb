{
 "cells": [
  {
   "cell_type": "code",
   "execution_count": 19,
   "metadata": {},
   "outputs": [],
   "source": [
    "import pandas as pd\n",
    "import numpy as np\n",
    "\n",
    "from datetime import datetime, timedelta\n",
    "from auto_profiling_model import *\n",
    "from auto_profiling_utils import *"
   ]
  },
  {
   "cell_type": "code",
   "execution_count": 20,
   "metadata": {},
   "outputs": [],
   "source": [
    "config = {\n",
    "    \"common\": {\n",
    "        \"model_name\": \"cnn_model\",\n",
    "        \"model_path\": \"auto_profiling_model\",\n",
    "        \"scaler\":\"minmaxscaler\",\n",
    "        \"vec\":\"vectorization\",\n",
    "        \"encoder\":\"onehotencoder\"\n",
    "    },\n",
    "    \"train\": {\n",
    "        \"data_load\": 0,\n",
    "        \"crontab\": \"*/30 * * * *\",\n",
    "        \"now_delta\": \"minutes=0\",\n",
    "        \"prev_delta\": \"days=30\",\n",
    "        \"max_depth\":100, ## decision tree depth\n",
    "        \"optimizer_help\": ['Adam', 'SGD'],\n",
    "        \"optimizer\": 'Adam',\n",
    "        \"learning_rate\": 0.0001,\n",
    "        \"batch_size\": 32,\n",
    "        \"epochs\": 500,\n",
    "        \"result_table\": \"result\"\n",
    "    },\n",
    "    \"predict\": {\n",
    "        \"crontab\": \"*/1 * * * *\",\n",
    "        \"now_delta\": \"minutes=0\",\n",
    "        \"prev_delta\": \"days=6\",\n",
    "        \"batch_size\": 8\n",
    "    }\n",
    "}"
   ]
  },
  {
   "cell_type": "code",
   "execution_count": 21,
   "metadata": {},
   "outputs": [],
   "source": [
    "pwd = os.getcwd()\n",
    "\n",
    "## TRAIN VERSION SETTING\n",
    "start = datetime.now().replace(microsecond=0) + timedelta(hours=9)\n",
    "train_version = start.strftime(\"%Y%m%d_%H\")"
   ]
  },
  {
   "cell_type": "markdown",
   "metadata": {},
   "source": [
    "## Data load"
   ]
  },
  {
   "cell_type": "code",
   "execution_count": 22,
   "metadata": {},
   "outputs": [
    {
     "name": "stdout",
     "output_type": "stream",
     "text": [
      "normal\n",
      "SQL_INJECTION\n",
      "XSS\n",
      "BEACONING\n",
      "CREDENTIAL\n"
     ]
    }
   ],
   "source": [
    "data = pd.DataFrame()\n",
    "\n",
    "for i in ['normal', 'SQL_INJECTION', 'XSS', 'BEACONING', 'CREDENTIAL']:\n",
    "    print(i)\n",
    "    data, meta = execute_ch(\"select * from dti.dti_sh_demo_log WHERE hash = '{}' limit 10000\".format(i))\n",
    "    feats = [m[0] for m in meta]\n",
    "    globals()['{}_df'.format(i)] = pd.DataFrame(data, columns = feats)\n",
    "\n",
    "data = pd.concat([globals()['{}_df'.format('normal')], globals()['{}_df'.format('SQL_INJECTION')],\n",
    "                  globals()['{}_df'.format('XSS')], globals()['{}_df'.format('BEACONING')], globals()['{}_df'.format('CREDENTIAL')]])\n",
    "\n",
    "data_y = data[['hash']]\n",
    "data_x = data.drop('hash', axis = 1)\n",
    "data_x['all'] = data_x[['http_host']].values + ' ' +data[['http_agent']].values + ' ' +data[['http_query']].values"
   ]
  },
  {
   "cell_type": "code",
   "execution_count": 23,
   "metadata": {},
   "outputs": [
    {
     "name": "stdout",
     "output_type": "stream",
     "text": [
      "No. of training examples: 22695\n",
      "No. of testing examples: 9727\n"
     ]
    }
   ],
   "source": [
    "# Train/Test data split\n",
    "y = data_y\n",
    "x = data_x\n",
    "\n",
    "train_x, test_x, train_y, test_y = train_test_split(x, y, test_size=0.3, random_state=1004)\n",
    "\n",
    "train_x.reset_index(drop = True, inplace = True)\n",
    "test_x.reset_index(drop = True, inplace = True)\n",
    "train_y.reset_index(drop = True, inplace = True)\n",
    "test_y.reset_index(drop = True, inplace = True)\n",
    "valid_y = test_y.copy()\n",
    "\n",
    "print(f\"No. of training examples: {train_x.shape[0]}\")\n",
    "print(f\"No. of testing examples: {test_x.shape[0]}\")\n",
    "\n",
    "save_test_x = test_x.copy()"
   ]
  },
  {
   "cell_type": "markdown",
   "metadata": {},
   "source": [
    "## Train data preprocessing"
   ]
  },
  {
   "cell_type": "code",
   "execution_count": 24,
   "metadata": {},
   "outputs": [],
   "source": [
    "train_prep = DataPreprocessing(version=train_version, mode='train', config=config)\n",
    "\n",
    "train_x = train_prep.vec_module(train_x, col_list = 'all')\n",
    "train_x = train_prep.scale_module(train_x)\n",
    "train_y = train_prep.encoder_module(train_y)"
   ]
  },
  {
   "cell_type": "code",
   "execution_count": 25,
   "metadata": {},
   "outputs": [],
   "source": [
    "train_prep.save_model(list(train_y), 'train_label')"
   ]
  },
  {
   "cell_type": "markdown",
   "metadata": {},
   "source": [
    "# AI model fit"
   ]
  },
  {
   "cell_type": "markdown",
   "metadata": {},
   "source": [
    "* Decision Tree"
   ]
  },
  {
   "cell_type": "code",
   "execution_count": 26,
   "metadata": {},
   "outputs": [
    {
     "name": "stdout",
     "output_type": "stream",
     "text": [
      "CONFUSION MATRIX\n",
      "[[3792    0    0    0    0]\n",
      " [   0 3078    0    0    0]\n",
      " [   0    0 3140    0    0]\n",
      " [   0    0    0 5678    0]\n",
      " [   0    0    0    0 7007]]\n",
      "ACCURACY SCORE : 1.0\n"
     ]
    }
   ],
   "source": [
    "model = DecisionTreeClassification(version=train_version, mode='train', config=config)\n",
    "model.fit_decision_tree(train_x, train_y)\n",
    "true, pred = model.validation(train_x, train_y)"
   ]
  },
  {
   "cell_type": "markdown",
   "metadata": {},
   "source": [
    "* cnn model"
   ]
  },
  {
   "cell_type": "code",
   "execution_count": 27,
   "metadata": {
    "scrolled": true
   },
   "outputs": [
    {
     "name": "stdout",
     "output_type": "stream",
     "text": [
      "\n",
      " ******** BEACONING MODEL FITTING START ********\n",
      "(10799, 1, 10391, 1)\n",
      "Epoch 1/500\n",
      "338/338 [==============================] - 3s 8ms/step - loss: 0.0956 - categorical_crossentropy: 0.0956 - accuracy: 0.9510\n",
      "Epoch 2/500\n",
      "338/338 [==============================] - 3s 8ms/step - loss: 3.0787e-05 - categorical_crossentropy: 3.0787e-05 - accuracy: 1.0000\n",
      "Epoch 3/500\n",
      "338/338 [==============================] - 3s 8ms/step - loss: 1.1748e-05 - categorical_crossentropy: 1.1748e-05 - accuracy: 1.0000\n",
      "Epoch 4/500\n",
      "338/338 [==============================] - 3s 8ms/step - loss: 7.3065e-06 - categorical_crossentropy: 7.3065e-06 - accuracy: 1.0000\n",
      "Epoch 00004: early stopping\n",
      "CONFUSION MATRIX\n",
      "[[7007    0]\n",
      " [   0 3792]]\n",
      "ACCURACY SCORE : 1.0\n",
      "BEACONING MODEL FITTING FINISH\n",
      "\n",
      " ******** CREDENTIAL MODEL FITTING START ********\n",
      "(10085, 1, 10391, 1)\n",
      "Epoch 1/500\n",
      "316/316 [==============================] - 3s 8ms/step - loss: 0.1026 - categorical_crossentropy: 0.1026 - accuracy: 0.9467\n",
      "Epoch 2/500\n",
      "316/316 [==============================] - 3s 8ms/step - loss: 6.5779e-05 - categorical_crossentropy: 6.5779e-05 - accuracy: 1.0000\n",
      "Epoch 3/500\n",
      "316/316 [==============================] - 3s 8ms/step - loss: 1.8127e-05 - categorical_crossentropy: 1.8127e-05 - accuracy: 1.0000\n",
      "Epoch 4/500\n",
      "316/316 [==============================] - 3s 8ms/step - loss: 7.1189e-06 - categorical_crossentropy: 7.1189e-06 - accuracy: 1.0000\n",
      "Epoch 00004: early stopping\n",
      "CONFUSION MATRIX\n",
      "[[7007    0]\n",
      " [   0 3078]]\n",
      "ACCURACY SCORE : 1.0\n",
      "CREDENTIAL MODEL FITTING FINISH\n",
      "\n",
      " ******** SQL_INJECTION MODEL FITTING START ********\n",
      "(10147, 1, 10391, 1)\n",
      "Epoch 1/500\n",
      "318/318 [==============================] - 3s 8ms/step - loss: 0.1247 - categorical_crossentropy: 0.1247 - accuracy: 0.9436\n",
      "Epoch 2/500\n",
      "318/318 [==============================] - 3s 8ms/step - loss: 0.0023 - categorical_crossentropy: 0.0023 - accuracy: 0.9994\n",
      "Epoch 3/500\n",
      "318/318 [==============================] - 3s 8ms/step - loss: 5.4045e-04 - categorical_crossentropy: 5.4045e-04 - accuracy: 0.9998\n",
      "Epoch 4/500\n",
      "318/318 [==============================] - 3s 8ms/step - loss: 4.0951e-04 - categorical_crossentropy: 4.0951e-04 - accuracy: 1.0000\n",
      "Epoch 5/500\n",
      "318/318 [==============================] - 3s 9ms/step - loss: 4.3910e-05 - categorical_crossentropy: 4.3910e-05 - accuracy: 1.0000\n",
      "Epoch 6/500\n",
      "318/318 [==============================] - 3s 8ms/step - loss: 1.1011e-04 - categorical_crossentropy: 1.1011e-04 - accuracy: 1.0000\n",
      "Epoch 00006: early stopping\n",
      "CONFUSION MATRIX\n",
      "[[7007    0]\n",
      " [   0 3140]]\n",
      "ACCURACY SCORE : 1.0\n",
      "SQL_INJECTION MODEL FITTING FINISH\n",
      "\n",
      " ******** XSS MODEL FITTING START ********\n",
      "(12685, 1, 10391, 1)\n",
      "Epoch 1/500\n",
      "397/397 [==============================] - 4s 8ms/step - loss: 0.0421 - categorical_crossentropy: 0.0421 - accuracy: 0.9831\n",
      "Epoch 2/500\n",
      "397/397 [==============================] - 3s 8ms/step - loss: 7.3314e-04 - categorical_crossentropy: 7.3314e-04 - accuracy: 0.9999\n",
      "Epoch 3/500\n",
      "397/397 [==============================] - 3s 8ms/step - loss: 9.2168e-05 - categorical_crossentropy: 9.2168e-05 - accuracy: 0.9999\n",
      "Epoch 4/500\n",
      "397/397 [==============================] - 3s 8ms/step - loss: 3.7081e-05 - categorical_crossentropy: 3.7081e-05 - accuracy: 1.0000\n",
      "Epoch 5/500\n",
      "397/397 [==============================] - 3s 8ms/step - loss: 2.7451e-06 - categorical_crossentropy: 2.7451e-06 - accuracy: 1.0000\n",
      "Epoch 6/500\n",
      "397/397 [==============================] - 3s 8ms/step - loss: 2.8641e-06 - categorical_crossentropy: 2.8641e-06 - accuracy: 1.0000\n",
      "Epoch 00006: early stopping\n",
      "CONFUSION MATRIX\n",
      "[[7007    0]\n",
      " [   0 5678]]\n",
      "ACCURACY SCORE : 1.0\n",
      "XSS MODEL FITTING FINISH\n"
     ]
    }
   ],
   "source": [
    "for i in list(train_y):\n",
    "    if i == 'normal':\n",
    "        pass\n",
    "    else:\n",
    "        print(\"\\n ******** {} MODEL FITTING START ********\".format(i))\n",
    "        normal_y = train_y[train_y['normal'] == 1].copy()\n",
    "        attack_y = train_y[train_y[i] == 1].copy()\n",
    "        temp_y = pd.concat([normal_y, attack_y])\n",
    "        temp_y = temp_y[['normal',i]].copy()\n",
    "        temp_x = train_x.iloc[temp_y.index]\n",
    "        random_idx = np.random.permutation(len(temp_x))\n",
    "        temp_x = temp_x.iloc[random_idx]\n",
    "        temp_y = temp_y.iloc[random_idx]\n",
    "        \n",
    "        cnn_train_x = np.array(temp_x).reshape(temp_x.shape[0], 1, temp_x.shape[1], 1)\n",
    "        cnn_train_y = np.array(temp_y).reshape(temp_y.shape[0], -1)        \n",
    "        config[\"x_data_shape\"] = cnn_train_x.shape\n",
    "        config[\"y_data_shape\"] = cnn_train_y.shape\n",
    "        config[\"att_name\"] = i\n",
    "        print(cnn_train_x.shape)\n",
    "        model = AttackClassification(version=train_version, mode='train', config=config)\n",
    "        \n",
    "        _, globals()['ai_history_{}'.format(i)] = model.optimize_nn(cnn_train_x, cnn_train_y)\n",
    "        true, pred = model.validation(cnn_train_x, cnn_train_y)\n",
    "        print(\"{} MODEL FITTING FINISH\".format(i))"
   ]
  },
  {
   "cell_type": "markdown",
   "metadata": {},
   "source": [
    "## PREDICT VERSION SETTING"
   ]
  },
  {
   "cell_type": "code",
   "execution_count": 28,
   "metadata": {},
   "outputs": [],
   "source": [
    "start = datetime.now().replace(microsecond=0) + timedelta(hours=9)\n",
    "pred_version = start.strftime(\"%Y%m%d_%H\")\n",
    "\n",
    "for timerange in range(500):\n",
    "    if not os.path.exists('{}/{}/{}'.format(pwd, config['common']['model_path'],pred_version)):\n",
    "        new_time = start - timedelta(hours=timerange+1)\n",
    "        pred_version = new_time.strftime(\"%Y%m%d_%H\")\n",
    "    else:\n",
    "        break"
   ]
  },
  {
   "cell_type": "markdown",
   "metadata": {},
   "source": [
    "## Test data preprocessing"
   ]
  },
  {
   "cell_type": "code",
   "execution_count": 29,
   "metadata": {},
   "outputs": [],
   "source": [
    "test_prep = DataPreprocessing(version=train_version, mode='test', config=config)\n",
    "\n",
    "test_x = test_prep.vec_module(test_x, col_list = 'all')\n",
    "test_x = test_prep.scale_module(test_x)\n",
    "test_y = test_prep.encoder_module(test_y)"
   ]
  },
  {
   "cell_type": "markdown",
   "metadata": {},
   "source": [
    "# AI model prediction"
   ]
  },
  {
   "cell_type": "markdown",
   "metadata": {},
   "source": [
    "* Deicions Tree"
   ]
  },
  {
   "cell_type": "code",
   "execution_count": 30,
   "metadata": {},
   "outputs": [
    {
     "name": "stdout",
     "output_type": "stream",
     "text": [
      "/home/ctilab/valid_model/auto_profiling_model/auto_profiling_model/20211214_14/dt_model.pickle\n",
      "CONFUSION MATRIX\n",
      "[[1573   16   32    0    0]\n",
      " [   6 1308   44    0    0]\n",
      " [  29   13 1316    0    0]\n",
      " [   0    0    0 2397    0]\n",
      " [   0    0    0    0 2993]]\n",
      "ACCURACY SCORE : 0.9856070730955073\n"
     ]
    }
   ],
   "source": [
    "model = DecisionTreeClassification(version=train_version, mode='test', config=config)\n",
    "true, pred = model.validation(test_x, test_y)"
   ]
  },
  {
   "cell_type": "code",
   "execution_count": 31,
   "metadata": {},
   "outputs": [],
   "source": [
    "train_label = test_prep.load_model('train_label')\n",
    "dt_pred = [train_label[i] for i in pred]"
   ]
  },
  {
   "cell_type": "markdown",
   "metadata": {},
   "source": [
    "* cnn model"
   ]
  },
  {
   "cell_type": "code",
   "execution_count": 32,
   "metadata": {},
   "outputs": [
    {
     "name": "stdout",
     "output_type": "stream",
     "text": [
      "\n",
      " ******** SQL_INJECTION MODEL PREDICTION START ********\n",
      "CONFUSION MATRIX\n",
      "[[   0   76]\n",
      " [   0 1316]]\n",
      "ACCURACY SCORE : 0.9454022988505747\n",
      "SQL_INJECTION MODEL PREDICTION FINISH\n",
      "\n",
      " ******** BEACONING MODEL PREDICTION START ********\n",
      "CONFUSION MATRIX\n",
      "[[   0   35]\n",
      " [   0 1573]]\n",
      "ACCURACY SCORE : 0.9782338308457711\n",
      "BEACONING MODEL PREDICTION FINISH\n",
      "\n",
      " ******** XSS MODEL PREDICTION START ********\n",
      "CONFUSION MATRIX\n",
      "[[2397]]\n",
      "ACCURACY SCORE : 1.0\n",
      "XSS MODEL PREDICTION FINISH\n",
      "\n",
      " ******** CREDENTIAL MODEL PREDICTION START ********\n",
      "CONFUSION MATRIX\n",
      "[[   4   25]\n",
      " [   0 1308]]\n",
      "ACCURACY SCORE : 0.981301421091997\n",
      "CREDENTIAL MODEL PREDICTION FINISH\n"
     ]
    }
   ],
   "source": [
    "save_test_x['ai_label_pred'] = np.NaN\n",
    "\n",
    "for i in list(set(dt_pred)):\n",
    "    y_index = [index for index, att_name in enumerate(dt_pred) if att_name == i]\n",
    "\n",
    "    if i == 'normal':\n",
    "        save_test_x.at[y_index,'ai_label_pred'] = 'NORMAL'\n",
    "    else:\n",
    "        print(\"\\n ******** {} MODEL PREDICTION START ********\".format(i))\n",
    "        temp_x = test_x.iloc[y_index]\n",
    "        temp_y = test_y.iloc[y_index][['normal',i]].copy()\n",
    "\n",
    "        cnn_test_x = np.array(temp_x).reshape(temp_x.shape[0], 1, temp_x.shape[1], 1)\n",
    "        cnn_test_y = np.array(temp_y).reshape(temp_y.shape[0], -1)        \n",
    "        config[\"x_data_shape\"] = cnn_test_x.shape\n",
    "        config[\"y_data_shape\"] = cnn_test_y.shape\n",
    "        config[\"att_name\"] = i\n",
    "        \n",
    "        model = AttackClassification(version=train_version, mode='predict', config=config)\n",
    "        true, pred = model.validation(cnn_test_x, cnn_test_y)\n",
    "        save_test_x.at[y_index,'ai_label_pred'] = pred.tolist()\n",
    "        save_test_x['ai_label_pred'] = np.where(save_test_x['ai_label_pred'] == 1, i, save_test_x['ai_label_pred'])\n",
    "        print(\"{} MODEL PREDICTION FINISH\".format(i))\n",
    "save_test_x['ai_label_pred'] = np.where(save_test_x['ai_label_pred'].isin(['0.0',0,'nan']), 'NORMAL', save_test_x['ai_label_pred'])\n",
    "save_test_x['version'] = pred_version"
   ]
  },
  {
   "cell_type": "code",
   "execution_count": 33,
   "metadata": {},
   "outputs": [
    {
     "data": {
      "text/plain": [
       "array([[1573,   12,    4,   32,    0],\n",
       "       [   6, 1308,    0,   44,    0],\n",
       "       [   0,    0, 2993,    0,    0],\n",
       "       [  29,   13,    0, 1316,    0],\n",
       "       [   0,    0,    0,    0, 2397]])"
      ]
     },
     "execution_count": 33,
     "metadata": {},
     "output_type": "execute_result"
    }
   ],
   "source": [
    "valid_y['hash'] = np.where(valid_y['hash'] == 'normal', 'NORMAL', valid_y['hash'])\n",
    "\n",
    "accuracy_score(valid_y,save_test_x['ai_label_pred'])\n",
    "\n",
    "from sklearn.metrics import confusion_matrix\n",
    "confusion_matrix(valid_y, save_test_x['ai_label_pred'])"
   ]
  },
  {
   "cell_type": "code",
   "execution_count": 35,
   "metadata": {},
   "outputs": [
    {
     "data": {
      "text/plain": [
       "0.9856070730955073"
      ]
     },
     "execution_count": 35,
     "metadata": {},
     "output_type": "execute_result"
    }
   ],
   "source": [
    "accuracy_score(valid_y,save_test_x['ai_label_pred'])\n"
   ]
  },
  {
   "cell_type": "code",
   "execution_count": 34,
   "metadata": {},
   "outputs": [],
   "source": [
    "# execute_ch(\"INSERT INTO dti.kisa_auto_profiling_result VALUES\", save_test_x.to_dict('records'))"
   ]
  },
  {
   "cell_type": "code",
   "execution_count": null,
   "metadata": {},
   "outputs": [],
   "source": []
  }
 ],
 "metadata": {
  "kernelspec": {
   "display_name": "Python 3",
   "language": "python",
   "name": "python3"
  },
  "language_info": {
   "codemirror_mode": {
    "name": "ipython",
    "version": 3
   },
   "file_extension": ".py",
   "mimetype": "text/x-python",
   "name": "python",
   "nbconvert_exporter": "python",
   "pygments_lexer": "ipython3",
   "version": "3.7.4"
  }
 },
 "nbformat": 4,
 "nbformat_minor": 4
}
